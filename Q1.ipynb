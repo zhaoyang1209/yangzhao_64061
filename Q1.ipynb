{
  "nbformat": 4,
  "nbformat_minor": 0,
  "metadata": {
    "colab": {
      "provenance": [],
      "authorship_tag": "ABX9TyNRaFrTKTHCqe1osiON7fiQ",
      "include_colab_link": true
    },
    "kernelspec": {
      "name": "python3",
      "display_name": "Python 3"
    },
    "language_info": {
      "name": "python"
    }
  },
  "cells": [
    {
      "cell_type": "markdown",
      "metadata": {
        "id": "view-in-github",
        "colab_type": "text"
      },
      "source": [
        "<a href=\"https://colab.research.google.com/github/zhaoyang1209/yangzhao_64061/blob/main/Q1.ipynb\" target=\"_parent\"><img src=\"https://colab.research.google.com/assets/colab-badge.svg\" alt=\"Open In Colab\"/></a>"
      ]
    },
    {
      "cell_type": "markdown",
      "source": [
        "loading IMDA dataset"
      ],
      "metadata": {
        "id": "22I-MgHQ34lc"
      }
    },
    {
      "cell_type": "code",
      "execution_count": 16,
      "metadata": {
        "id": "l37JdaTc0Joo"
      },
      "outputs": [],
      "source": [
        "from tensorflow.keras.datasets import imdb\n",
        "(train_data, train_labels), (test_data, test_labels) = imdb.load_data(\n",
        "    num_words=10000)"
      ]
    },
    {
      "cell_type": "code",
      "source": [
        "train_data[0]\n",
        "train_labels[0]\n",
        "max([max(sequence) for sequence in train_data])"
      ],
      "metadata": {
        "colab": {
          "base_uri": "https://localhost:8080/"
        },
        "id": "zsOF8R8l3MP2",
        "outputId": "b654242e-174b-494b-e457-b03ed0949e7c"
      },
      "execution_count": 17,
      "outputs": [
        {
          "output_type": "execute_result",
          "data": {
            "text/plain": [
              "9999"
            ]
          },
          "metadata": {},
          "execution_count": 17
        }
      ]
    },
    {
      "cell_type": "markdown",
      "source": [
        "Decoding reviews back to text"
      ],
      "metadata": {
        "id": "wj1YR_q-4J8e"
      }
    },
    {
      "cell_type": "code",
      "source": [],
      "metadata": {
        "id": "8uGjjKlM_9IP"
      },
      "execution_count": 17,
      "outputs": []
    },
    {
      "cell_type": "code",
      "source": [
        "word_index = imdb.get_word_index()\n",
        "reverse_word_index = dict(\n",
        "    [(value, key) for (key, value) in word_index.items()])\n",
        "decoded_review = \" \".join(\n",
        "    [reverse_word_index.get(i - 3, \"?\") for i in train_data[0]])"
      ],
      "metadata": {
        "id": "uBE_GLdQ4Lt_"
      },
      "execution_count": 18,
      "outputs": []
    },
    {
      "cell_type": "markdown",
      "source": [
        "Encoding the integer sequences via multi-hot encoding"
      ],
      "metadata": {
        "id": "mF0ix2Iu4Qjb"
      }
    },
    {
      "cell_type": "code",
      "source": [
        "import numpy as np\n",
        "def vectorize_sequences(sequences, dimension=10000):\n",
        "    results = np.zeros((len(sequences), dimension))\n",
        "    for i, sequence in enumerate(sequences):\n",
        "        for j in sequence:\n",
        "            results[i, j] = 1.\n",
        "    return results\n",
        "x_train = vectorize_sequences(train_data)\n",
        "x_test = vectorize_sequences(test_data)"
      ],
      "metadata": {
        "id": "OQwvYDWi4RvM"
      },
      "execution_count": 19,
      "outputs": []
    },
    {
      "cell_type": "code",
      "source": [
        "x_train[0]"
      ],
      "metadata": {
        "colab": {
          "base_uri": "https://localhost:8080/"
        },
        "id": "ww7ZYQGY4XN6",
        "outputId": "68a0b997-136c-4ff6-9af1-8dbb54a0826f"
      },
      "execution_count": 20,
      "outputs": [
        {
          "output_type": "execute_result",
          "data": {
            "text/plain": [
              "array([0., 1., 1., ..., 0., 0., 0.])"
            ]
          },
          "metadata": {},
          "execution_count": 20
        }
      ]
    },
    {
      "cell_type": "code",
      "source": [
        "y_train = np.asarray(train_labels).astype(\"float32\")\n",
        "y_test = np.asarray(test_labels).astype(\"float32\")"
      ],
      "metadata": {
        "id": "r4rWmcve4YNF"
      },
      "execution_count": 21,
      "outputs": []
    },
    {
      "cell_type": "markdown",
      "source": [
        "Building your model"
      ],
      "metadata": {
        "id": "sb1IQqy15Hkq"
      }
    },
    {
      "cell_type": "markdown",
      "source": [
        "Model definition\n",
        "********************************************************************************\n",
        "step 4: activation=\"tanh\""
      ],
      "metadata": {
        "id": "y9Hf5lUB5JZn"
      }
    },
    {
      "cell_type": "code",
      "source": [
        "from tensorflow import keras\n",
        "from tensorflow.keras import layers\n",
        "\n",
        "model = keras.Sequential([\n",
        "    layers.Dense(16, activation=\"relu\"),\n",
        "    layers.Dense(1, activation=\"sigmoid\")\n",
        "])"
      ],
      "metadata": {
        "id": "_UrE79CS8Pb2"
      },
      "execution_count": 22,
      "outputs": []
    },
    {
      "cell_type": "markdown",
      "source": [
        "Compiling the model\n",
        "********************************************************************************\n",
        "step 3: loss=\"mse\"\n"
      ],
      "metadata": {
        "id": "2xGSHN4Z8RXQ"
      }
    },
    {
      "cell_type": "code",
      "source": [
        "model.compile(optimizer=\"rmsprop\",\n",
        "              loss=\"binary_crossentropy\",\n",
        "              metrics=[\"accuracy\"])"
      ],
      "metadata": {
        "id": "eyTDClCv8R56"
      },
      "execution_count": 23,
      "outputs": []
    },
    {
      "cell_type": "markdown",
      "source": [
        "Validating your approach"
      ],
      "metadata": {
        "id": "cpjwkVJR8XTD"
      }
    },
    {
      "cell_type": "markdown",
      "source": [
        "Setting aside a validation set"
      ],
      "metadata": {
        "id": "gV0N6QwH8ZSD"
      }
    },
    {
      "cell_type": "code",
      "source": [
        "x_val = x_train[:10000]\n",
        "partial_x_train = x_train[10000:]\n",
        "y_val = y_train[:10000]\n",
        "partial_y_train = y_train[10000:]"
      ],
      "metadata": {
        "id": "AT70QJ8M8bis"
      },
      "execution_count": 24,
      "outputs": []
    },
    {
      "cell_type": "markdown",
      "source": [
        "Training your model"
      ],
      "metadata": {
        "id": "zbTrcSoo8eIh"
      }
    },
    {
      "cell_type": "code",
      "source": [
        "history = model.fit(partial_x_train,\n",
        "                    partial_y_train,\n",
        "                    epochs=20,\n",
        "                    batch_size=512,\n",
        "                    validation_data=(x_val, y_val))"
      ],
      "metadata": {
        "colab": {
          "base_uri": "https://localhost:8080/"
        },
        "id": "UUSabEY-8eq0",
        "outputId": "a181617c-edc2-48d1-eac6-0df2682a91d1"
      },
      "execution_count": 25,
      "outputs": [
        {
          "output_type": "stream",
          "name": "stdout",
          "text": [
            "Epoch 1/20\n",
            "30/30 [==============================] - 2s 59ms/step - loss: 0.5150 - accuracy: 0.7829 - val_loss: 0.4030 - val_accuracy: 0.8585\n",
            "Epoch 2/20\n",
            "30/30 [==============================] - 1s 26ms/step - loss: 0.3302 - accuracy: 0.8951 - val_loss: 0.3368 - val_accuracy: 0.8721\n",
            "Epoch 3/20\n",
            "30/30 [==============================] - 1s 26ms/step - loss: 0.2587 - accuracy: 0.9139 - val_loss: 0.2933 - val_accuracy: 0.8884\n",
            "Epoch 4/20\n",
            "30/30 [==============================] - 1s 20ms/step - loss: 0.2167 - accuracy: 0.9327 - val_loss: 0.2807 - val_accuracy: 0.8905\n",
            "Epoch 5/20\n",
            "30/30 [==============================] - 1s 21ms/step - loss: 0.1878 - accuracy: 0.9411 - val_loss: 0.2819 - val_accuracy: 0.8865\n",
            "Epoch 6/20\n",
            "30/30 [==============================] - 1s 27ms/step - loss: 0.1672 - accuracy: 0.9476 - val_loss: 0.2777 - val_accuracy: 0.8875\n",
            "Epoch 7/20\n",
            "30/30 [==============================] - 1s 24ms/step - loss: 0.1516 - accuracy: 0.9523 - val_loss: 0.2782 - val_accuracy: 0.8861\n",
            "Epoch 8/20\n",
            "30/30 [==============================] - 1s 20ms/step - loss: 0.1359 - accuracy: 0.9579 - val_loss: 0.2879 - val_accuracy: 0.8824\n",
            "Epoch 9/20\n",
            "30/30 [==============================] - 1s 25ms/step - loss: 0.1241 - accuracy: 0.9635 - val_loss: 0.2952 - val_accuracy: 0.8804\n",
            "Epoch 10/20\n",
            "30/30 [==============================] - 1s 26ms/step - loss: 0.1117 - accuracy: 0.9685 - val_loss: 0.2929 - val_accuracy: 0.8835\n",
            "Epoch 11/20\n",
            "30/30 [==============================] - 1s 21ms/step - loss: 0.1030 - accuracy: 0.9727 - val_loss: 0.3030 - val_accuracy: 0.8826\n",
            "Epoch 12/20\n",
            "30/30 [==============================] - 1s 30ms/step - loss: 0.0947 - accuracy: 0.9747 - val_loss: 0.3229 - val_accuracy: 0.8771\n",
            "Epoch 13/20\n",
            "30/30 [==============================] - 1s 33ms/step - loss: 0.0872 - accuracy: 0.9783 - val_loss: 0.3165 - val_accuracy: 0.8812\n",
            "Epoch 14/20\n",
            "30/30 [==============================] - 1s 21ms/step - loss: 0.0799 - accuracy: 0.9821 - val_loss: 0.3270 - val_accuracy: 0.8803\n",
            "Epoch 15/20\n",
            "30/30 [==============================] - 1s 22ms/step - loss: 0.0744 - accuracy: 0.9839 - val_loss: 0.3331 - val_accuracy: 0.8808\n",
            "Epoch 16/20\n",
            "30/30 [==============================] - 1s 26ms/step - loss: 0.0682 - accuracy: 0.9847 - val_loss: 0.3540 - val_accuracy: 0.8739\n",
            "Epoch 17/20\n",
            "30/30 [==============================] - 1s 21ms/step - loss: 0.0626 - accuracy: 0.9875 - val_loss: 0.3519 - val_accuracy: 0.8780\n",
            "Epoch 18/20\n",
            "30/30 [==============================] - 1s 20ms/step - loss: 0.0590 - accuracy: 0.9892 - val_loss: 0.3641 - val_accuracy: 0.8755\n",
            "Epoch 19/20\n",
            "30/30 [==============================] - 1s 21ms/step - loss: 0.0540 - accuracy: 0.9905 - val_loss: 0.3709 - val_accuracy: 0.8763\n",
            "Epoch 20/20\n",
            "30/30 [==============================] - 1s 26ms/step - loss: 0.0489 - accuracy: 0.9915 - val_loss: 0.3813 - val_accuracy: 0.8751\n"
          ]
        }
      ]
    },
    {
      "cell_type": "code",
      "source": [
        "history_dict = history.history\n",
        "history_dict.keys()"
      ],
      "metadata": {
        "colab": {
          "base_uri": "https://localhost:8080/"
        },
        "id": "S41Q4AZN8iXL",
        "outputId": "ab502ede-9a7f-41e0-9795-8244a0d988e5"
      },
      "execution_count": 26,
      "outputs": [
        {
          "output_type": "execute_result",
          "data": {
            "text/plain": [
              "dict_keys(['loss', 'accuracy', 'val_loss', 'val_accuracy'])"
            ]
          },
          "metadata": {},
          "execution_count": 26
        }
      ]
    },
    {
      "cell_type": "markdown",
      "source": [
        "Plotting the training and validation loss"
      ],
      "metadata": {
        "id": "k_NvbBIL8pmx"
      }
    },
    {
      "cell_type": "code",
      "source": [
        "import matplotlib.pyplot as plt\n",
        "history_dict = history.history\n",
        "loss_values = history_dict[\"loss\"]\n",
        "val_loss_values = history_dict[\"val_loss\"]\n",
        "epochs = range(1, len(loss_values) + 1)\n",
        "plt.plot(epochs, loss_values, \"bo\", label=\"Training loss\")\n",
        "plt.plot(epochs, val_loss_values, \"b\", label=\"Validation loss\")\n",
        "plt.title(\"Training and validation loss\")\n",
        "plt.xlabel(\"Epochs\")\n",
        "plt.ylabel(\"Loss\")\n",
        "plt.legend()\n",
        "plt.show()"
      ],
      "metadata": {
        "colab": {
          "base_uri": "https://localhost:8080/",
          "height": 472
        },
        "id": "CERnKz1a8tfh",
        "outputId": "50591ec7-a206-4ca3-9943-2c4977473f0b"
      },
      "execution_count": 27,
      "outputs": [
        {
          "output_type": "display_data",
          "data": {
            "text/plain": [
              "<Figure size 640x480 with 1 Axes>"
            ],
            "image/png": "[encoded data removed]"
          },
          "metadata": {}
        }
      ]
    },
    {
      "cell_type": "markdown",
      "source": [
        "Plotting the training and validation accuracy"
      ],
      "metadata": {
        "id": "9-J4OVW482-n"
      }
    },
    {
      "cell_type": "code",
      "source": [
        "plt.clf()\n",
        "acc = history_dict[\"accuracy\"]\n",
        "val_acc = history_dict[\"val_accuracy\"]\n",
        "plt.plot(epochs, acc, \"bo\", label=\"Training acc\")\n",
        "plt.plot(epochs, val_acc, \"b\", label=\"Validation acc\")\n",
        "plt.title(\"Training and validation accuracy\")\n",
        "plt.xlabel(\"Epochs\")\n",
        "plt.ylabel(\"Accuracy\")\n",
        "plt.legend()\n",
        "plt.show()"
      ],
      "metadata": {
        "colab": {
          "base_uri": "https://localhost:8080/",
          "height": 472
        },
        "id": "c4aFMier8to_",
        "outputId": "506cb486-44e5-4261-ffab-deb3a99556d2"
      },
      "execution_count": 28,
      "outputs": [
        {
          "output_type": "display_data",
          "data": {
            "text/plain": [
              "<Figure size 640x480 with 1 Axes>"
            ],
            "image/png": "[encoded data removed]"
          },
          "metadata": {}
        }
      ]
    },
    {
      "cell_type": "markdown",
      "source": [
        "Retraining a model from scratch"
      ],
      "metadata": {
        "id": "zZeoWJ6P87dR"
      }
    },
    {
      "cell_type": "code",
      "source": [
        "model = keras.Sequential([\n",
        "    layers.Dense(16, activation=\"relu\"),\n",
        "    layers.Dense(1, activation=\"sigmoid\")\n",
        "])\n",
        "model.compile(optimizer=\"rmsprop\",\n",
        "              loss=\"binary_crossentropy\",\n",
        "              metrics=[\"accuracy\"])\n",
        "model.fit(x_train, y_train, epochs=4, batch_size=512)\n",
        "results = model.evaluate(x_test, y_test)"
      ],
      "metadata": {
        "colab": {
          "base_uri": "https://localhost:8080/"
        },
        "id": "awLQplna88nW",
        "outputId": "5cc43395-de41-4686-8f3d-d531b1df6ea2"
      },
      "execution_count": 29,
      "outputs": [
        {
          "output_type": "stream",
          "name": "stdout",
          "text": [
            "Epoch 1/4\n",
            "49/49 [==============================] - 1s 16ms/step - loss: 0.4516 - accuracy: 0.8251\n",
            "Epoch 2/4\n",
            "49/49 [==============================] - 1s 20ms/step - loss: 0.2843 - accuracy: 0.9024\n",
            "Epoch 3/4\n",
            "49/49 [==============================] - 1s 21ms/step - loss: 0.2289 - accuracy: 0.9200\n",
            "Epoch 4/4\n",
            "49/49 [==============================] - 1s 15ms/step - loss: 0.1986 - accuracy: 0.9306\n",
            "782/782 [==============================] - 2s 3ms/step - loss: 0.2775 - accuracy: 0.8890\n"
          ]
        }
      ]
    },
    {
      "cell_type": "code",
      "source": [
        "results"
      ],
      "metadata": {
        "colab": {
          "base_uri": "https://localhost:8080/"
        },
        "id": "-xKeiQcN9BTr",
        "outputId": "c1f2e95d-db89-4b25-ff7b-7857bf18f44b"
      },
      "execution_count": 30,
      "outputs": [
        {
          "output_type": "execute_result",
          "data": {
            "text/plain": [
              "[0.27752333879470825, 0.8889600038528442]"
            ]
          },
          "metadata": {},
          "execution_count": 30
        }
      ]
    }
  ]
}