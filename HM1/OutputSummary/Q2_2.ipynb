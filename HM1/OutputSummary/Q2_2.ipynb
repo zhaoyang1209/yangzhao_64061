{
  "nbformat": 4,
  "nbformat_minor": 0,
  "metadata": {
    "colab": {
      "provenance": []
    },
    "kernelspec": {
      "name": "python3",
      "display_name": "Python 3"
    },
    "language_info": {
      "name": "python"
    }
  },
  "cells": [
    {
      "cell_type": "markdown",
      "source": [
        "loading IMDA dataset"
      ],
      "metadata": {
        "id": "22I-MgHQ34lc"
      }
    },
    {
      "cell_type": "code",
      "execution_count": 1,
      "metadata": {
        "id": "l37JdaTc0Joo"
      },
      "outputs": [],
      "source": [
        "from tensorflow.keras.datasets import imdb\n",
        "(train_data, train_labels), (test_data, test_labels) = imdb.load_data(\n",
        "    num_words=10000)"
      ]
    },
    {
      "cell_type": "code",
      "source": [
        "train_data[0]\n",
        "train_labels[0]\n",
        "max([max(sequence) for sequence in train_data])"
      ],
      "metadata": {
        "colab": {
          "base_uri": "https://localhost:8080/"
        },
        "id": "zsOF8R8l3MP2",
        "outputId": "84f07f7f-1f60-4e86-c6c7-eec293f856bb"
      },
      "execution_count": 2,
      "outputs": [
        {
          "output_type": "execute_result",
          "data": {
            "text/plain": [
              "9999"
            ]
          },
          "metadata": {},
          "execution_count": 2
        }
      ]
    },
    {
      "cell_type": "markdown",
      "source": [
        "Decoding reviews back to text"
      ],
      "metadata": {
        "id": "wj1YR_q-4J8e"
      }
    },
    {
      "cell_type": "code",
      "source": [],
      "metadata": {
        "id": "8uGjjKlM_9IP"
      },
      "execution_count": 2,
      "outputs": []
    },
    {
      "cell_type": "code",
      "source": [
        "word_index = imdb.get_word_index()\n",
        "reverse_word_index = dict(\n",
        "    [(value, key) for (key, value) in word_index.items()])\n",
        "decoded_review = \" \".join(\n",
        "    [reverse_word_index.get(i - 3, \"?\") for i in train_data[0]])"
      ],
      "metadata": {
        "id": "uBE_GLdQ4Lt_"
      },
      "execution_count": 3,
      "outputs": []
    },
    {
      "cell_type": "markdown",
      "source": [
        "Encoding the integer sequences via multi-hot encoding"
      ],
      "metadata": {
        "id": "mF0ix2Iu4Qjb"
      }
    },
    {
      "cell_type": "code",
      "source": [
        "import numpy as np\n",
        "def vectorize_sequences(sequences, dimension=10000):\n",
        "    results = np.zeros((len(sequences), dimension))\n",
        "    for i, sequence in enumerate(sequences):\n",
        "        for j in sequence:\n",
        "            results[i, j] = 1.\n",
        "    return results\n",
        "x_train = vectorize_sequences(train_data)\n",
        "x_test = vectorize_sequences(test_data)"
      ],
      "metadata": {
        "id": "OQwvYDWi4RvM"
      },
      "execution_count": 4,
      "outputs": []
    },
    {
      "cell_type": "code",
      "source": [
        "x_train[0]"
      ],
      "metadata": {
        "colab": {
          "base_uri": "https://localhost:8080/"
        },
        "id": "ww7ZYQGY4XN6",
        "outputId": "c0a1d9b4-eed1-42a3-d137-1ba64ee411e3"
      },
      "execution_count": 5,
      "outputs": [
        {
          "output_type": "execute_result",
          "data": {
            "text/plain": [
              "array([0., 1., 1., ..., 0., 0., 0.])"
            ]
          },
          "metadata": {},
          "execution_count": 5
        }
      ]
    },
    {
      "cell_type": "code",
      "source": [
        "y_train = np.asarray(train_labels).astype(\"float32\")\n",
        "y_test = np.asarray(test_labels).astype(\"float32\")"
      ],
      "metadata": {
        "id": "r4rWmcve4YNF"
      },
      "execution_count": 6,
      "outputs": []
    },
    {
      "cell_type": "markdown",
      "source": [
        "Building your model"
      ],
      "metadata": {
        "id": "sb1IQqy15Hkq"
      }
    },
    {
      "cell_type": "markdown",
      "source": [
        "Model definition"
      ],
      "metadata": {
        "id": "y9Hf5lUB5JZn"
      }
    },
    {
      "cell_type": "code",
      "source": [
        "from tensorflow import keras\n",
        "from tensorflow.keras import layers\n",
        "\n",
        "model = keras.Sequential([\n",
        "    layers.Dense(64, activation=\"relu\"),\n",
        "    layers.Dense(64, activation=\"relu\"),\n",
        "    layers.Dense(1, activation=\"sigmoid\")\n",
        "])"
      ],
      "metadata": {
        "id": "_UrE79CS8Pb2"
      },
      "execution_count": 7,
      "outputs": []
    },
    {
      "cell_type": "markdown",
      "source": [
        "Compiling the model"
      ],
      "metadata": {
        "id": "2xGSHN4Z8RXQ"
      }
    },
    {
      "cell_type": "code",
      "source": [
        "model.compile(optimizer=\"rmsprop\",\n",
        "              loss=\"binary_crossentropy\",\n",
        "              metrics=[\"accuracy\"])"
      ],
      "metadata": {
        "id": "eyTDClCv8R56"
      },
      "execution_count": 8,
      "outputs": []
    },
    {
      "cell_type": "markdown",
      "source": [
        "Validating your approach"
      ],
      "metadata": {
        "id": "cpjwkVJR8XTD"
      }
    },
    {
      "cell_type": "markdown",
      "source": [
        "Setting aside a validation set"
      ],
      "metadata": {
        "id": "gV0N6QwH8ZSD"
      }
    },
    {
      "cell_type": "code",
      "source": [
        "x_val = x_train[:10000]\n",
        "partial_x_train = x_train[10000:]\n",
        "y_val = y_train[:10000]\n",
        "partial_y_train = y_train[10000:]"
      ],
      "metadata": {
        "id": "AT70QJ8M8bis"
      },
      "execution_count": 9,
      "outputs": []
    },
    {
      "cell_type": "markdown",
      "source": [
        "Training your model"
      ],
      "metadata": {
        "id": "zbTrcSoo8eIh"
      }
    },
    {
      "cell_type": "code",
      "source": [
        "history = model.fit(partial_x_train,\n",
        "                    partial_y_train,\n",
        "                    epochs=20,\n",
        "                    batch_size=512,\n",
        "                    validation_data=(x_val, y_val))"
      ],
      "metadata": {
        "colab": {
          "base_uri": "https://localhost:8080/"
        },
        "id": "UUSabEY-8eq0",
        "outputId": "74a2da87-a042-4df6-a8b8-e94168684498"
      },
      "execution_count": 10,
      "outputs": [
        {
          "output_type": "stream",
          "name": "stdout",
          "text": [
            "Epoch 1/20\n",
            "30/30 [==============================] - 4s 104ms/step - loss: 0.5141 - accuracy: 0.7592 - val_loss: 0.3601 - val_accuracy: 0.8623\n",
            "Epoch 2/20\n",
            "30/30 [==============================] - 2s 53ms/step - loss: 0.3030 - accuracy: 0.8843 - val_loss: 0.3157 - val_accuracy: 0.8713\n",
            "Epoch 3/20\n",
            "30/30 [==============================] - 1s 45ms/step - loss: 0.2275 - accuracy: 0.9149 - val_loss: 0.2853 - val_accuracy: 0.8838\n",
            "Epoch 4/20\n",
            "30/30 [==============================] - 2s 60ms/step - loss: 0.1855 - accuracy: 0.9327 - val_loss: 0.2995 - val_accuracy: 0.8787\n",
            "Epoch 5/20\n",
            "30/30 [==============================] - 1s 40ms/step - loss: 0.1496 - accuracy: 0.9453 - val_loss: 0.2993 - val_accuracy: 0.8826\n",
            "Epoch 6/20\n",
            "30/30 [==============================] - 2s 54ms/step - loss: 0.1221 - accuracy: 0.9565 - val_loss: 0.3817 - val_accuracy: 0.8683\n",
            "Epoch 7/20\n",
            "30/30 [==============================] - 2s 59ms/step - loss: 0.1067 - accuracy: 0.9647 - val_loss: 0.3255 - val_accuracy: 0.8800\n",
            "Epoch 8/20\n",
            "30/30 [==============================] - 2s 66ms/step - loss: 0.0835 - accuracy: 0.9713 - val_loss: 0.3425 - val_accuracy: 0.8827\n",
            "Epoch 9/20\n",
            "30/30 [==============================] - 1s 40ms/step - loss: 0.0660 - accuracy: 0.9789 - val_loss: 0.5932 - val_accuracy: 0.8200\n",
            "Epoch 10/20\n",
            "30/30 [==============================] - 2s 51ms/step - loss: 0.0625 - accuracy: 0.9789 - val_loss: 0.3839 - val_accuracy: 0.8806\n",
            "Epoch 11/20\n",
            "30/30 [==============================] - 1s 43ms/step - loss: 0.0438 - accuracy: 0.9873 - val_loss: 0.4141 - val_accuracy: 0.8758\n",
            "Epoch 12/20\n",
            "30/30 [==============================] - 1s 39ms/step - loss: 0.0383 - accuracy: 0.9891 - val_loss: 0.4358 - val_accuracy: 0.8766\n",
            "Epoch 13/20\n",
            "30/30 [==============================] - 1s 39ms/step - loss: 0.0250 - accuracy: 0.9935 - val_loss: 0.6005 - val_accuracy: 0.8398\n",
            "Epoch 14/20\n",
            "30/30 [==============================] - 1s 39ms/step - loss: 0.0129 - accuracy: 0.9983 - val_loss: 0.4917 - val_accuracy: 0.8743\n",
            "Epoch 15/20\n",
            "30/30 [==============================] - 1s 39ms/step - loss: 0.0351 - accuracy: 0.9887 - val_loss: 0.5054 - val_accuracy: 0.8771\n",
            "Epoch 16/20\n",
            "30/30 [==============================] - 2s 51ms/step - loss: 0.0059 - accuracy: 0.9998 - val_loss: 0.5482 - val_accuracy: 0.8704\n",
            "Epoch 17/20\n",
            "30/30 [==============================] - 2s 70ms/step - loss: 0.0378 - accuracy: 0.9882 - val_loss: 0.5416 - val_accuracy: 0.8772\n",
            "Epoch 18/20\n",
            "30/30 [==============================] - 1s 40ms/step - loss: 0.0037 - accuracy: 0.9999 - val_loss: 0.5760 - val_accuracy: 0.8749\n",
            "Epoch 19/20\n",
            "30/30 [==============================] - 1s 40ms/step - loss: 0.0399 - accuracy: 0.9894 - val_loss: 0.5968 - val_accuracy: 0.8672\n",
            "Epoch 20/20\n",
            "30/30 [==============================] - 1s 40ms/step - loss: 0.0029 - accuracy: 1.0000 - val_loss: 0.6018 - val_accuracy: 0.8756\n"
          ]
        }
      ]
    },
    {
      "cell_type": "code",
      "source": [
        "history_dict = history.history\n",
        "history_dict.keys()"
      ],
      "metadata": {
        "colab": {
          "base_uri": "https://localhost:8080/"
        },
        "id": "S41Q4AZN8iXL",
        "outputId": "8c94fa8d-df09-4263-bb75-e3393e4f6a9c"
      },
      "execution_count": 11,
      "outputs": [
        {
          "output_type": "execute_result",
          "data": {
            "text/plain": [
              "dict_keys(['loss', 'accuracy', 'val_loss', 'val_accuracy'])"
            ]
          },
          "metadata": {},
          "execution_count": 11
        }
      ]
    },
    {
      "cell_type": "markdown",
      "source": [
        "Plotting the training and validation loss"
      ],
      "metadata": {
        "id": "k_NvbBIL8pmx"
      }
    },
    {
      "cell_type": "code",
      "source": [
        "import matplotlib.pyplot as plt\n",
        "history_dict = history.history\n",
        "loss_values = history_dict[\"loss\"]\n",
        "val_loss_values = history_dict[\"val_loss\"]\n",
        "epochs = range(1, len(loss_values) + 1)\n",
        "plt.plot(epochs, loss_values, \"bo\", label=\"Training loss\")\n",
        "plt.plot(epochs, val_loss_values, \"b\", label=\"Validation loss\")\n",
        "plt.title(\"Training and validation loss\")\n",
        "plt.xlabel(\"Epochs\")\n",
        "plt.ylabel(\"Loss\")\n",
        "plt.legend()\n",
        "plt.show()"
      ],
      "metadata": {
        "colab": {
          "base_uri": "https://localhost:8080/",
          "height": 472
        },
        "id": "CERnKz1a8tfh",
        "outputId": "6b5a67f6-74c6-4047-9423-6e49474365c1"
      },
      "execution_count": 12,
      "outputs": [
        {
          "output_type": "display_data",
          "data": {
            "text/plain": [
              "<Figure size 640x480 with 1 Axes>"
            ],
            "image/png": "[encoded data removed]"
          },
          "metadata": {}
        }
      ]
    },
    {
      "cell_type": "markdown",
      "source": [
        "Plotting the training and validation accuracy"
      ],
      "metadata": {
        "id": "9-J4OVW482-n"
      }
    },
    {
      "cell_type": "code",
      "source": [
        "plt.clf()\n",
        "acc = history_dict[\"accuracy\"]\n",
        "val_acc = history_dict[\"val_accuracy\"]\n",
        "plt.plot(epochs, acc, \"bo\", label=\"Training acc\")\n",
        "plt.plot(epochs, val_acc, \"b\", label=\"Validation acc\")\n",
        "plt.title(\"Training and validation accuracy\")\n",
        "plt.xlabel(\"Epochs\")\n",
        "plt.ylabel(\"Accuracy\")\n",
        "plt.legend()\n",
        "plt.show()"
      ],
      "metadata": {
        "colab": {
          "base_uri": "https://localhost:8080/",
          "height": 472
        },
        "id": "c4aFMier8to_",
        "outputId": "1fbf577c-be7f-4831-958f-b215f06d103e"
      },
      "execution_count": 13,
      "outputs": [
        {
          "output_type": "display_data",
          "data": {
            "text/plain": [
              "<Figure size 640x480 with 1 Axes>"
            ],
            "image/png": "[encoded data removed]"
          },
          "metadata": {}
        }
      ]
    },
    {
      "cell_type": "markdown",
      "source": [
        "Retraining a model from scratch"
      ],
      "metadata": {
        "id": "zZeoWJ6P87dR"
      }
    },
    {
      "cell_type": "code",
      "source": [
        "model = keras.Sequential([\n",
        "    layers.Dense(64, activation=\"relu\"),\n",
        "    layers.Dense(64, activation=\"relu\"),\n",
        "    layers.Dense(1, activation=\"sigmoid\")\n",
        "])\n",
        "model.compile(optimizer=\"rmsprop\",\n",
        "              loss=\"binary_crossentropy\",\n",
        "              metrics=[\"accuracy\"])\n",
        "model.fit(x_train, y_train, epochs=4, batch_size=512)\n",
        "results = model.evaluate(x_test, y_test)"
      ],
      "metadata": {
        "colab": {
          "base_uri": "https://localhost:8080/"
        },
        "id": "awLQplna88nW",
        "outputId": "8ce0c4d3-3df4-4926-eafc-c2e95dc55422"
      },
      "execution_count": 14,
      "outputs": [
        {
          "output_type": "stream",
          "name": "stdout",
          "text": [
            "Epoch 1/4\n",
            "49/49 [==============================] - 2s 31ms/step - loss: 0.4577 - accuracy: 0.7907\n",
            "Epoch 2/4\n",
            "49/49 [==============================] - 2s 32ms/step - loss: 0.2709 - accuracy: 0.8933\n",
            "Epoch 3/4\n",
            "49/49 [==============================] - 2s 40ms/step - loss: 0.2120 - accuracy: 0.9191\n",
            "Epoch 4/4\n",
            "49/49 [==============================] - 1s 29ms/step - loss: 0.1870 - accuracy: 0.9282\n",
            "782/782 [==============================] - 3s 3ms/step - loss: 0.3273 - accuracy: 0.8722\n"
          ]
        }
      ]
    },
    {
      "cell_type": "code",
      "source": [
        "results"
      ],
      "metadata": {
        "colab": {
          "base_uri": "https://localhost:8080/"
        },
        "id": "-xKeiQcN9BTr",
        "outputId": "ed7f6453-d2e4-40d2-c92d-a4b436ad24f4"
      },
      "execution_count": 15,
      "outputs": [
        {
          "output_type": "execute_result",
          "data": {
            "text/plain": [
              "[0.3273366391658783, 0.872160017490387]"
            ]
          },
          "metadata": {},
          "execution_count": 15
        }
      ]
    }
  ]
}