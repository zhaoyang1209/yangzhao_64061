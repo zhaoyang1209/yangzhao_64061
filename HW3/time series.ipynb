{
  "cells": [
    {
      "cell_type": "markdown",
      "metadata": {
        "id": "YEAPrmRvEILF"
      },
      "source": [
        "This is a companion notebook for the book [Deep Learning with Python, Second Edition](https://www.manning.com/books/deep-learning-with-python-second-edition?a_aid=keras&a_bid=76564dff). For readability, it only contains runnable code blocks and section titles, and omits everything else in the book: text paragraphs, figures, and pseudocode.\n",
        "\n",
        "**If you want to be able to follow what's going on, I recommend reading the notebook side by side with your copy of the book.**\n",
        "\n",
        "This notebook was generated for TensorFlow 2.6."
      ]
    },
    {
      "cell_type": "markdown",
      "metadata": {
        "id": "rJ9szBCqEILI"
      },
      "source": [
        "# Deep learning for timeseries"
      ]
    },
    {
      "cell_type": "markdown",
      "metadata": {
        "id": "WV1-4ih9EILI"
      },
      "source": [
        "## Different kinds of timeseries tasks"
      ]
    },
    {
      "cell_type": "markdown",
      "metadata": {
        "id": "oLvcL3glEILI"
      },
      "source": [
        "## A temperature-forecasting example"
      ]
    },
    {
      "cell_type": "code",
      "execution_count": 1,
      "metadata": {
        "colab": {
          "base_uri": "https://localhost:8080/"
        },
        "id": "V0ifgshrEILJ",
        "outputId": "773e5143-4ca2-495a-b595-b34efb6acb06"
      },
      "outputs": [
        {
          "output_type": "stream",
          "name": "stdout",
          "text": [
            "--2023-11-05 18:34:31--  https://s3.amazonaws.com/keras-datasets/jena_climate_2009_2016.csv.zip\n",
            "Resolving s3.amazonaws.com (s3.amazonaws.com)... 16.182.66.40, 16.182.73.24, 52.217.137.48, ...\n",
            "Connecting to s3.amazonaws.com (s3.amazonaws.com)|16.182.66.40|:443... connected.\n",
            "HTTP request sent, awaiting response... 200 OK\n",
            "Length: 13565642 (13M) [application/zip]\n",
            "Saving to: ‘jena_climate_2009_2016.csv.zip’\n",
            "\n",
            "jena_climate_2009_2 100%[===================>]  12.94M  7.05MB/s    in 1.8s    \n",
            "\n",
            "2023-11-05 18:34:34 (7.05 MB/s) - ‘jena_climate_2009_2016.csv.zip’ saved [13565642/13565642]\n",
            "\n",
            "Archive:  jena_climate_2009_2016.csv.zip\n",
            "  inflating: jena_climate_2009_2016.csv  \n",
            "  inflating: __MACOSX/._jena_climate_2009_2016.csv  \n"
          ]
        }
      ],
      "source": [
        "!wget https://s3.amazonaws.com/keras-datasets/jena_climate_2009_2016.csv.zip\n",
        "!unzip jena_climate_2009_2016.csv.zip"
      ]
    },
    {
      "cell_type": "markdown",
      "metadata": {
        "id": "8jf3AJCnEILJ"
      },
      "source": [
        "**Inspecting the data of the Jena weather dataset**"
      ]
    },
    {
      "cell_type": "code",
      "execution_count": 2,
      "metadata": {
        "colab": {
          "base_uri": "https://localhost:8080/"
        },
        "id": "6DVsz1EFEILK",
        "outputId": "285a529b-ec51-41e1-dba6-77380cce2f2c"
      },
      "outputs": [
        {
          "output_type": "stream",
          "name": "stdout",
          "text": [
            "['\"Date Time\"', '\"p (mbar)\"', '\"T (degC)\"', '\"Tpot (K)\"', '\"Tdew (degC)\"', '\"rh (%)\"', '\"VPmax (mbar)\"', '\"VPact (mbar)\"', '\"VPdef (mbar)\"', '\"sh (g/kg)\"', '\"H2OC (mmol/mol)\"', '\"rho (g/m**3)\"', '\"wv (m/s)\"', '\"max. wv (m/s)\"', '\"wd (deg)\"']\n",
            "420451\n"
          ]
        }
      ],
      "source": [
        "import os\n",
        "fname = os.path.join(\"jena_climate_2009_2016.csv\")\n",
        "\n",
        "with open(fname) as f:\n",
        "    data = f.read()\n",
        "\n",
        "lines = data.split(\"\\n\")\n",
        "header = lines[0].split(\",\")\n",
        "lines = lines[1:]\n",
        "print(header)\n",
        "print(len(lines))"
      ]
    },
    {
      "cell_type": "markdown",
      "metadata": {
        "id": "MswUiY6EEILK"
      },
      "source": [
        "**Parsing the data**"
      ]
    },
    {
      "cell_type": "code",
      "execution_count": 3,
      "metadata": {
        "id": "Xid57DNMEILK"
      },
      "outputs": [],
      "source": [
        "import numpy as np\n",
        "temperature = np.zeros((len(lines),))\n",
        "raw_data = np.zeros((len(lines), len(header) - 1))\n",
        "for i, line in enumerate(lines):\n",
        "    values = [float(x) for x in line.split(\",\")[1:]]\n",
        "    temperature[i] = values[1]\n",
        "    raw_data[i, :] = values[:]"
      ]
    },
    {
      "cell_type": "markdown",
      "metadata": {
        "id": "HeadfemqEILK"
      },
      "source": [
        "**Plotting the temperature timeseries**"
      ]
    },
    {
      "cell_type": "code",
      "execution_count": 4,
      "metadata": {
        "colab": {
          "base_uri": "https://localhost:8080/",
          "height": 451
        },
        "id": "qgF5zvFyEILL",
        "outputId": "204fdde6-7613-4113-f06c-5db4e449240f"
      },
      "outputs": [
        {
          "output_type": "execute_result",
          "data": {
            "text/plain": [
              "[<matplotlib.lines.Line2D at 0x7b11dff053f0>]"
            ]
          },
          "metadata": {},
          "execution_count": 4
        },
        {
          "output_type": "display_data",
          "data": {
            "text/plain": [
              "<Figure size 640x480 with 1 Axes>"
            ],
            "image/png": "[encoded data removed]"
          },
          "metadata": {}
        }
      ],
      "source": [
        "from matplotlib import pyplot as plt\n",
        "plt.plot(range(len(temperature)), temperature)"
      ]
    },
    {
      "cell_type": "markdown",
      "metadata": {
        "id": "ZayJ9swFEILL"
      },
      "source": [
        "**Plotting the first 10 days of the temperature timeseries**"
      ]
    },
    {
      "cell_type": "code",
      "execution_count": 5,
      "metadata": {
        "colab": {
          "base_uri": "https://localhost:8080/",
          "height": 447
        },
        "id": "GrFHlORREILL",
        "outputId": "e7981ca9-35f9-4b46-b4e7-fb5c0569f94f"
      },
      "outputs": [
        {
          "output_type": "execute_result",
          "data": {
            "text/plain": [
              "[<matplotlib.lines.Line2D at 0x7b11df20f130>]"
            ]
          },
          "metadata": {},
          "execution_count": 5
        },
        {
          "output_type": "display_data",
          "data": {
            "text/plain": [
              "<Figure size 640x480 with 1 Axes>"
            ],
            "image/png": "[encoded data removed]"
          },
          "metadata": {}
        }
      ],
      "source": [
        "plt.plot(range(1440), temperature[:1440])"
      ]
    },
    {
      "cell_type": "markdown",
      "metadata": {
        "id": "OFIz1pk_EILL"
      },
      "source": [
        "**Computing the number of samples we'll use for each data split**"
      ]
    },
    {
      "cell_type": "code",
      "execution_count": 6,
      "metadata": {
        "colab": {
          "base_uri": "https://localhost:8080/"
        },
        "id": "pC6JFkPGEILL",
        "outputId": "961a3ceb-df18-42f2-cff3-6a97817c4a4f"
      },
      "outputs": [
        {
          "output_type": "stream",
          "name": "stdout",
          "text": [
            "num_train_samples: 210225\n",
            "num_val_samples: 105112\n",
            "num_test_samples: 105114\n"
          ]
        }
      ],
      "source": [
        "num_train_samples = int(0.5 * len(raw_data))\n",
        "num_val_samples = int(0.25 * len(raw_data))\n",
        "num_test_samples = len(raw_data) - num_train_samples - num_val_samples\n",
        "print(\"num_train_samples:\", num_train_samples)\n",
        "print(\"num_val_samples:\", num_val_samples)\n",
        "print(\"num_test_samples:\", num_test_samples)"
      ]
    },
    {
      "cell_type": "markdown",
      "metadata": {
        "id": "eWm2DmQYEILL"
      },
      "source": [
        "### Preparing the data"
      ]
    },
    {
      "cell_type": "markdown",
      "metadata": {
        "id": "fyqdTD4bEILL"
      },
      "source": [
        "**Normalizing the data**"
      ]
    },
    {
      "cell_type": "code",
      "execution_count": 7,
      "metadata": {
        "id": "NBPnmU6wEILL"
      },
      "outputs": [],
      "source": [
        "mean = raw_data[:num_train_samples].mean(axis=0)\n",
        "raw_data -= mean\n",
        "std = raw_data[:num_train_samples].std(axis=0)\n",
        "raw_data /= std"
      ]
    },
    {
      "cell_type": "code",
      "execution_count": 8,
      "metadata": {
        "colab": {
          "base_uri": "https://localhost:8080/"
        },
        "id": "7PBFidc-EILL",
        "outputId": "e4617265-d4a0-4e7f-8695-d7743a1a0fd4"
      },
      "outputs": [
        {
          "output_type": "stream",
          "name": "stdout",
          "text": [
            "[0, 1, 2] 3\n",
            "[1, 2, 3] 4\n",
            "[2, 3, 4] 5\n",
            "[3, 4, 5] 6\n",
            "[4, 5, 6] 7\n"
          ]
        }
      ],
      "source": [
        "import numpy as np\n",
        "from tensorflow import keras\n",
        "int_sequence = np.arange(10)\n",
        "dummy_dataset = keras.utils.timeseries_dataset_from_array(\n",
        "    data=int_sequence[:-3],\n",
        "    targets=int_sequence[3:],\n",
        "    sequence_length=3,\n",
        "    batch_size=2,\n",
        ")\n",
        "\n",
        "for inputs, targets in dummy_dataset:\n",
        "    for i in range(inputs.shape[0]):\n",
        "        print([int(x) for x in inputs[i]], int(targets[i]))"
      ]
    },
    {
      "cell_type": "markdown",
      "metadata": {
        "id": "GRKs_oNWEILM"
      },
      "source": [
        "**Instantiating datasets for training, validation, and testing**"
      ]
    },
    {
      "cell_type": "code",
      "execution_count": 9,
      "metadata": {
        "id": "SQ78xXqmEILM"
      },
      "outputs": [],
      "source": [
        "sampling_rate = 6\n",
        "sequence_length = 120\n",
        "delay = sampling_rate * (sequence_length + 24 - 1)\n",
        "batch_size = 256\n",
        "\n",
        "train_dataset = keras.utils.timeseries_dataset_from_array(\n",
        "    raw_data[:-delay],\n",
        "    targets=temperature[delay:],\n",
        "    sampling_rate=sampling_rate,\n",
        "    sequence_length=sequence_length,\n",
        "    shuffle=True,\n",
        "    batch_size=batch_size,\n",
        "    start_index=0,\n",
        "    end_index=num_train_samples)\n",
        "\n",
        "val_dataset = keras.utils.timeseries_dataset_from_array(\n",
        "    raw_data[:-delay],\n",
        "    targets=temperature[delay:],\n",
        "    sampling_rate=sampling_rate,\n",
        "    sequence_length=sequence_length,\n",
        "    shuffle=True,\n",
        "    batch_size=batch_size,\n",
        "    start_index=num_train_samples,\n",
        "    end_index=num_train_samples + num_val_samples)\n",
        "\n",
        "test_dataset = keras.utils.timeseries_dataset_from_array(\n",
        "    raw_data[:-delay],\n",
        "    targets=temperature[delay:],\n",
        "    sampling_rate=sampling_rate,\n",
        "    sequence_length=sequence_length,\n",
        "    shuffle=True,\n",
        "    batch_size=batch_size,\n",
        "    start_index=num_train_samples + num_val_samples)"
      ]
    },
    {
      "cell_type": "markdown",
      "metadata": {
        "id": "-451-7HtEILM"
      },
      "source": [
        "**Inspecting the output of one of our datasets**"
      ]
    },
    {
      "cell_type": "code",
      "execution_count": 10,
      "metadata": {
        "colab": {
          "base_uri": "https://localhost:8080/"
        },
        "id": "lD6WIseSEILM",
        "outputId": "27daf157-f083-422e-af74-1a5160ee6641"
      },
      "outputs": [
        {
          "output_type": "stream",
          "name": "stdout",
          "text": [
            "samples shape: (256, 120, 14)\n",
            "targets shape: (256,)\n"
          ]
        }
      ],
      "source": [
        "for samples, targets in train_dataset:\n",
        "    print(\"samples shape:\", samples.shape)\n",
        "    print(\"targets shape:\", targets.shape)\n",
        "    break"
      ]
    },
    {
      "cell_type": "markdown",
      "metadata": {
        "id": "-J-6F0htEILM"
      },
      "source": [
        "### A common-sense, non-machine-learning baseline"
      ]
    },
    {
      "cell_type": "markdown",
      "metadata": {
        "id": "cLmx7pTMEILM"
      },
      "source": [
        "**Computing the common-sense baseline MAE**"
      ]
    },
    {
      "cell_type": "code",
      "execution_count": 11,
      "metadata": {
        "colab": {
          "base_uri": "https://localhost:8080/"
        },
        "id": "kqXtt4tOEILM",
        "outputId": "4c93b692-0302-4cf4-f338-d02040a8d6d7"
      },
      "outputs": [
        {
          "output_type": "stream",
          "name": "stdout",
          "text": [
            "Validation MAE: 2.44\n",
            "Test MAE: 2.62\n"
          ]
        }
      ],
      "source": [
        "def evaluate_naive_method(dataset):\n",
        "    total_abs_err = 0.\n",
        "    samples_seen = 0\n",
        "    for samples, targets in dataset:\n",
        "        preds = samples[:, -1, 1] * std[1] + mean[1]\n",
        "        total_abs_err += np.sum(np.abs(preds - targets))\n",
        "        samples_seen += samples.shape[0]\n",
        "    return total_abs_err / samples_seen\n",
        "\n",
        "print(f\"Validation MAE: {evaluate_naive_method(val_dataset):.2f}\")\n",
        "print(f\"Test MAE: {evaluate_naive_method(test_dataset):.2f}\")"
      ]
    },
    {
      "cell_type": "markdown",
      "metadata": {
        "id": "uWR2uyTYEILM"
      },
      "source": [
        "### Let's try a basic machine-learning model"
      ]
    },
    {
      "cell_type": "markdown",
      "metadata": {
        "id": "lLOKa-I8EILM"
      },
      "source": [
        "**Training and evaluating a densely connected model**"
      ]
    },
    {
      "cell_type": "code",
      "execution_count": null,
      "metadata": {
        "colab": {
          "base_uri": "https://localhost:8080/",
          "height": 425
        },
        "id": "OUaDl32MEILM",
        "outputId": "cd6f3e8f-44e5-4813-c8f8-195e95064a69"
      },
      "outputs": [
        {
          "output_type": "stream",
          "name": "stdout",
          "text": [
            "Epoch 1/10\n",
            "819/819 [==============================] - ETA: 0s - loss: 13.9422 - mae: 2.8979"
          ]
        },
        {
          "output_type": "error",
          "ename": "ValueError",
          "evalue": "ignored",
          "traceback": [
            "\u001b[0;31m---------------------------------------------------------------------------\u001b[0m",
            "\u001b[0;31mValueError\u001b[0m                                Traceback (most recent call last)",
            "\u001b[0;32m<ipython-input-49-e09ecdf9d4ec>\u001b[0m in \u001b[0;36m<cell line: 15>\u001b[0;34m()\u001b[0m\n\u001b[1;32m     13\u001b[0m ]\n\u001b[1;32m     14\u001b[0m \u001b[0mmodel\u001b[0m\u001b[0;34m.\u001b[0m\u001b[0mcompile\u001b[0m\u001b[0;34m(\u001b[0m\u001b[0moptimizer\u001b[0m\u001b[0;34m=\u001b[0m\u001b[0;34m\"rmsprop\"\u001b[0m\u001b[0;34m,\u001b[0m \u001b[0mloss\u001b[0m\u001b[0;34m=\u001b[0m\u001b[0;34m\"mse\"\u001b[0m\u001b[0;34m,\u001b[0m \u001b[0mmetrics\u001b[0m\u001b[0;34m=\u001b[0m\u001b[0;34m[\u001b[0m\u001b[0;34m\"mae\"\u001b[0m\u001b[0;34m]\u001b[0m\u001b[0;34m)\u001b[0m\u001b[0;34m\u001b[0m\u001b[0;34m\u001b[0m\u001b[0m\n\u001b[0;32m---> 15\u001b[0;31m history = model.fit(train_dataset,\n\u001b[0m\u001b[1;32m     16\u001b[0m                     \u001b[0mepochs\u001b[0m\u001b[0;34m=\u001b[0m\u001b[0;36m10\u001b[0m\u001b[0;34m,\u001b[0m\u001b[0;34m\u001b[0m\u001b[0;34m\u001b[0m\u001b[0m\n\u001b[1;32m     17\u001b[0m                     \u001b[0mvalidation_data\u001b[0m\u001b[0;34m=\u001b[0m\u001b[0mval_dataset\u001b[0m\u001b[0;34m,\u001b[0m\u001b[0;34m\u001b[0m\u001b[0;34m\u001b[0m\u001b[0m\n",
            "\u001b[0;32m/usr/local/lib/python3.10/dist-packages/keras/src/utils/traceback_utils.py\u001b[0m in \u001b[0;36merror_handler\u001b[0;34m(*args, **kwargs)\u001b[0m\n\u001b[1;32m     68\u001b[0m             \u001b[0;31m# To get the full stack trace, call:\u001b[0m\u001b[0;34m\u001b[0m\u001b[0;34m\u001b[0m\u001b[0m\n\u001b[1;32m     69\u001b[0m             \u001b[0;31m# `tf.debugging.disable_traceback_filtering()`\u001b[0m\u001b[0;34m\u001b[0m\u001b[0;34m\u001b[0m\u001b[0m\n\u001b[0;32m---> 70\u001b[0;31m             \u001b[0;32mraise\u001b[0m \u001b[0me\u001b[0m\u001b[0;34m.\u001b[0m\u001b[0mwith_traceback\u001b[0m\u001b[0;34m(\u001b[0m\u001b[0mfiltered_tb\u001b[0m\u001b[0;34m)\u001b[0m \u001b[0;32mfrom\u001b[0m \u001b[0;32mNone\u001b[0m\u001b[0;34m\u001b[0m\u001b[0;34m\u001b[0m\u001b[0m\n\u001b[0m\u001b[1;32m     71\u001b[0m         \u001b[0;32mfinally\u001b[0m\u001b[0;34m:\u001b[0m\u001b[0;34m\u001b[0m\u001b[0;34m\u001b[0m\u001b[0m\n\u001b[1;32m     72\u001b[0m             \u001b[0;32mdel\u001b[0m \u001b[0mfiltered_tb\u001b[0m\u001b[0;34m\u001b[0m\u001b[0;34m\u001b[0m\u001b[0m\n",
            "\u001b[0;32m/usr/local/lib/python3.10/dist-packages/keras/src/saving/saving_api.py\u001b[0m in \u001b[0;36msave_model\u001b[0;34m(model, filepath, overwrite, save_format, **kwargs)\u001b[0m\n\u001b[1;32m    158\u001b[0m                 \u001b[0;32mreturn\u001b[0m\u001b[0;34m\u001b[0m\u001b[0;34m\u001b[0m\u001b[0m\n\u001b[1;32m    159\u001b[0m         \u001b[0;32mif\u001b[0m \u001b[0mkwargs\u001b[0m\u001b[0;34m:\u001b[0m\u001b[0;34m\u001b[0m\u001b[0;34m\u001b[0m\u001b[0m\n\u001b[0;32m--> 160\u001b[0;31m             raise ValueError(\n\u001b[0m\u001b[1;32m    161\u001b[0m                 \u001b[0;34m\"The following argument(s) are not supported \"\u001b[0m\u001b[0;34m\u001b[0m\u001b[0;34m\u001b[0m\u001b[0m\n\u001b[1;32m    162\u001b[0m                 \u001b[0;34mf\"with the native Keras format: {list(kwargs.keys())}\"\u001b[0m\u001b[0;34m\u001b[0m\u001b[0;34m\u001b[0m\u001b[0m\n",
            "\u001b[0;31mValueError\u001b[0m: The following argument(s) are not supported with the native Keras format: ['options']"
          ]
        }
      ],
      "source": [
        "from tensorflow import keras\n",
        "from tensorflow.keras import layers\n",
        "\n",
        "inputs = keras.Input(shape=(sequence_length, raw_data.shape[-1]))\n",
        "x = layers.Flatten()(inputs)\n",
        "x = layers.Dense(16, activation=\"relu\")(x)\n",
        "outputs = layers.Dense(1)(x)\n",
        "model = keras.Model(inputs, outputs)\n",
        "\n",
        "callbacks = [\n",
        "    keras.callbacks.ModelCheckpoint(\"jena_dense.keras\",\n",
        "                                    save_best_only=True)\n",
        "]\n",
        "model.compile(optimizer=\"rmsprop\", loss=\"mse\", metrics=[\"mae\"])\n",
        "history = model.fit(train_dataset,\n",
        "                    epochs=10,\n",
        "                    validation_data=val_dataset,\n",
        "                    callbacks=callbacks)\n",
        "\n",
        "model = keras.models.load_model(\"jena_dense.keras\")\n",
        "print(f\"Test MAE: {model.evaluate(test_dataset)[1]:.2f}\")"
      ]
    },
    {
      "cell_type": "markdown",
      "source": [
        "run without callback"
      ],
      "metadata": {
        "id": "noQBFdEcF_k-"
      }
    },
    {
      "cell_type": "code",
      "source": [
        "from tensorflow import keras\n",
        "from tensorflow.keras import layers"
      ],
      "metadata": {
        "id": "Y8jWN0g_xvfx"
      },
      "execution_count": 12,
      "outputs": []
    },
    {
      "cell_type": "code",
      "source": [
        "\n",
        "\n",
        "inputs = keras.Input(shape=(sequence_length, raw_data.shape[-1]))\n",
        "x = layers.Flatten()(inputs)\n",
        "x = layers.Dense(16, activation=\"relu\")(x)\n",
        "outputs = layers.Dense(1)(x)\n",
        "model = keras.Model(inputs, outputs)\n",
        "\n",
        "\n",
        "model.compile(optimizer=\"rmsprop\", loss=\"mse\", metrics=[\"mae\"])\n",
        "history = model.fit(train_dataset,\n",
        "                    epochs=10,\n",
        "                    validation_data=val_dataset)\n",
        "\n",
        "model.save(\"jena_dense.keras\")\n",
        "\n",
        "model = keras.models.load_model(\"jena_dense.keras\")\n",
        "print(f\"Test MAE: {model.evaluate(test_dataset)[1]:.2f}\")"
      ],
      "metadata": {
        "colab": {
          "base_uri": "https://localhost:8080/"
        },
        "id": "BHqMMShnEqoR",
        "outputId": "3d48d396-7ab8-4ed7-cc96-ee6cb3d39c73"
      },
      "execution_count": null,
      "outputs": [
        {
          "output_type": "stream",
          "name": "stdout",
          "text": [
            "Epoch 1/10\n",
            "819/819 [==============================] - 14s 17ms/step - loss: 13.0793 - mae: 2.8050 - val_loss: 10.9378 - val_mae: 2.6289\n",
            "Epoch 2/10\n",
            "819/819 [==============================] - 13s 16ms/step - loss: 9.5250 - mae: 2.4251 - val_loss: 12.7215 - val_mae: 2.8437\n",
            "Epoch 3/10\n",
            "819/819 [==============================] - 14s 16ms/step - loss: 8.7160 - mae: 2.3217 - val_loss: 11.2592 - val_mae: 2.6440\n",
            "Epoch 4/10\n",
            "819/819 [==============================] - 14s 16ms/step - loss: 8.2084 - mae: 2.2556 - val_loss: 10.2669 - val_mae: 2.5360\n",
            "Epoch 5/10\n",
            "819/819 [==============================] - 13s 16ms/step - loss: 7.8714 - mae: 2.2104 - val_loss: 11.4602 - val_mae: 2.6886\n",
            "Epoch 6/10\n",
            "819/819 [==============================] - 14s 16ms/step - loss: 7.6243 - mae: 2.1759 - val_loss: 12.6448 - val_mae: 2.8151\n",
            "Epoch 7/10\n",
            "819/819 [==============================] - 14s 16ms/step - loss: 7.4328 - mae: 2.1497 - val_loss: 11.1839 - val_mae: 2.6495\n",
            "Epoch 8/10\n",
            "819/819 [==============================] - 14s 17ms/step - loss: 7.2603 - mae: 2.1241 - val_loss: 10.6853 - val_mae: 2.5818\n",
            "Epoch 9/10\n",
            "819/819 [==============================] - 14s 17ms/step - loss: 7.1186 - mae: 2.1036 - val_loss: 10.7518 - val_mae: 2.5926\n",
            "Epoch 10/10\n",
            "819/819 [==============================] - 13s 16ms/step - loss: 6.9912 - mae: 2.0842 - val_loss: 12.6079 - val_mae: 2.8152\n",
            "405/405 [==============================] - 5s 11ms/step - loss: 13.2851 - mae: 2.8763\n",
            "Test MAE: 2.88\n"
          ]
        }
      ]
    },
    {
      "cell_type": "markdown",
      "metadata": {
        "id": "C1B1Qg5GEILM"
      },
      "source": [
        "**Plotting results**"
      ]
    },
    {
      "cell_type": "code",
      "execution_count": null,
      "metadata": {
        "colab": {
          "base_uri": "https://localhost:8080/",
          "height": 452
        },
        "id": "bLNeLibdEILM",
        "outputId": "6dd08c1e-592e-46c5-ab99-51f4f1c8694a"
      },
      "outputs": [
        {
          "output_type": "display_data",
          "data": {
            "text/plain": [
              "<Figure size 640x480 with 1 Axes>"
            ],
            "image/png": "[encoded data removed]"
          },
          "metadata": {}
        }
      ],
      "source": [
        "import matplotlib.pyplot as plt\n",
        "loss = history.history[\"mae\"]\n",
        "val_loss = history.history[\"val_mae\"]\n",
        "epochs = range(1, len(loss) + 1)\n",
        "plt.figure()\n",
        "plt.plot(epochs, loss, \"bo\", label=\"Training MAE\")\n",
        "plt.plot(epochs, val_loss, \"b\", label=\"Validation MAE\")\n",
        "plt.title(\"Training and validation MAE\")\n",
        "plt.legend()\n",
        "plt.show()"
      ]
    },
    {
      "cell_type": "markdown",
      "metadata": {
        "id": "Scqz4XWOEILM"
      },
      "source": [
        "### Let's try a 1D convolutional model"
      ]
    },
    {
      "cell_type": "code",
      "execution_count": null,
      "metadata": {
        "colab": {
          "base_uri": "https://localhost:8080/"
        },
        "id": "Ne4ymVEmEILM",
        "outputId": "80a6a505-113a-4687-c8b4-5684730d6112"
      },
      "outputs": [
        {
          "output_type": "stream",
          "name": "stdout",
          "text": [
            "Epoch 1/10\n",
            "819/819 [==============================] - 16s 18ms/step - loss: 22.8735 - mae: 3.7013 - val_loss: 18.0778 - val_mae: 3.3409\n",
            "Epoch 2/10\n",
            "819/819 [==============================] - 14s 17ms/step - loss: 15.2298 - mae: 3.0948 - val_loss: 18.5747 - val_mae: 3.3762\n",
            "Epoch 3/10\n",
            "819/819 [==============================] - 14s 17ms/step - loss: 13.7999 - mae: 2.9438 - val_loss: 16.1895 - val_mae: 3.2114\n",
            "Epoch 4/10\n",
            "819/819 [==============================] - 14s 17ms/step - loss: 12.9556 - mae: 2.8516 - val_loss: 16.7030 - val_mae: 3.1470\n",
            "Epoch 5/10\n",
            "819/819 [==============================] - 14s 17ms/step - loss: 12.3478 - mae: 2.7833 - val_loss: 15.8270 - val_mae: 3.0810\n",
            "Epoch 6/10\n",
            "819/819 [==============================] - 14s 18ms/step - loss: 11.9559 - mae: 2.7390 - val_loss: 15.8575 - val_mae: 3.0808\n",
            "Epoch 7/10\n",
            "819/819 [==============================] - 14s 17ms/step - loss: 11.5961 - mae: 2.6965 - val_loss: 16.5091 - val_mae: 3.1195\n",
            "Epoch 8/10\n",
            "819/819 [==============================] - 14s 17ms/step - loss: 11.2999 - mae: 2.6605 - val_loss: 14.7275 - val_mae: 2.9939\n",
            "Epoch 9/10\n",
            "819/819 [==============================] - 14s 17ms/step - loss: 11.0350 - mae: 2.6306 - val_loss: 14.0374 - val_mae: 2.9346\n",
            "Epoch 10/10\n",
            "819/819 [==============================] - 14s 17ms/step - loss: 10.8269 - mae: 2.6058 - val_loss: 15.7683 - val_mae: 3.1107\n",
            "405/405 [==============================] - 5s 11ms/step - loss: 15.8533 - mae: 3.1639\n",
            "Test MAE: 3.16\n"
          ]
        }
      ],
      "source": [
        "inputs = keras.Input(shape=(sequence_length, raw_data.shape[-1]))\n",
        "x = layers.Conv1D(8, 24, activation=\"relu\")(inputs)\n",
        "x = layers.MaxPooling1D(2)(x)\n",
        "x = layers.Conv1D(8, 12, activation=\"relu\")(x)\n",
        "x = layers.MaxPooling1D(2)(x)\n",
        "x = layers.Conv1D(8, 6, activation=\"relu\")(x)\n",
        "x = layers.GlobalAveragePooling1D()(x)\n",
        "outputs = layers.Dense(1)(x)\n",
        "model = keras.Model(inputs, outputs)\n",
        "\n",
        "model.compile(optimizer=\"rmsprop\", loss=\"mse\", metrics=[\"mae\"])\n",
        "\n",
        "history = model.fit(train_dataset,\n",
        "                    epochs=10,\n",
        "                    validation_data=val_dataset)\n",
        "\n",
        "model.save(\"jena_conv.keras\")\n",
        "\n",
        "model = keras.models.load_model(\"jena_conv.keras\")\n",
        "\n",
        "test_mae = model.evaluate(test_dataset)[1]\n",
        "print(f\"Test MAE: {test_mae:.2f}\")"
      ]
    },
    {
      "cell_type": "markdown",
      "metadata": {
        "id": "25FvKx0pEILM"
      },
      "source": [
        "### A first recurrent baseline"
      ]
    },
    {
      "cell_type": "markdown",
      "metadata": {
        "id": "gTVDCBDZEILN"
      },
      "source": [
        "**A simple LSTM-based model**"
      ]
    },
    {
      "cell_type": "code",
      "source": [
        "inputs = keras.Input(shape=(sequence_length, raw_data.shape[-1]))\n",
        "x = layers.LSTM(16)(inputs)\n",
        "outputs = layers.Dense(1)(x)\n",
        "model = keras.Model(inputs, outputs)\n",
        "\n",
        "model.compile(optimizer=\"rmsprop\", loss=\"mse\", metrics=[\"mae\"])\n",
        "\n",
        "history = model.fit(train_dataset,\n",
        "                    epochs=10,\n",
        "                    validation_data=val_dataset)\n",
        "\n",
        "model.save(\"jena_lstm.keras\")\n",
        "\n",
        "model = keras.models.load_model(\"jena_lstm.keras\")\n",
        "\n",
        "test_mae = model.evaluate(test_dataset)[1]\n",
        "print(f\"Test MAE: {test_mae:.2f}\")"
      ],
      "metadata": {
        "colab": {
          "base_uri": "https://localhost:8080/"
        },
        "id": "-TEkzfs6IP3A",
        "outputId": "bb53bc13-04d9-49bb-f276-7c473a0b099d"
      },
      "execution_count": null,
      "outputs": [
        {
          "output_type": "stream",
          "name": "stdout",
          "text": [
            "Epoch 1/10\n",
            "819/819 [==============================] - 18s 18ms/step - loss: 43.3001 - mae: 4.7783 - val_loss: 12.3801 - val_mae: 2.6589\n",
            "Epoch 2/10\n",
            "819/819 [==============================] - 14s 18ms/step - loss: 10.8476 - mae: 2.5555 - val_loss: 9.6705 - val_mae: 2.4010\n",
            "Epoch 3/10\n",
            "819/819 [==============================] - 14s 18ms/step - loss: 9.5245 - mae: 2.4024 - val_loss: 9.8732 - val_mae: 2.4272\n",
            "Epoch 4/10\n",
            "819/819 [==============================] - 15s 18ms/step - loss: 9.1553 - mae: 2.3554 - val_loss: 10.0124 - val_mae: 2.4475\n",
            "Epoch 5/10\n",
            "819/819 [==============================] - 15s 18ms/step - loss: 8.8999 - mae: 2.3206 - val_loss: 9.9859 - val_mae: 2.4435\n",
            "Epoch 6/10\n",
            "819/819 [==============================] - 15s 18ms/step - loss: 8.6843 - mae: 2.2936 - val_loss: 10.5531 - val_mae: 2.5099\n",
            "Epoch 7/10\n",
            "819/819 [==============================] - 14s 17ms/step - loss: 8.4909 - mae: 2.2675 - val_loss: 9.9936 - val_mae: 2.4544\n",
            "Epoch 8/10\n",
            "819/819 [==============================] - 14s 18ms/step - loss: 8.2914 - mae: 2.2418 - val_loss: 9.9685 - val_mae: 2.4562\n",
            "Epoch 9/10\n",
            "819/819 [==============================] - 14s 17ms/step - loss: 8.0499 - mae: 2.2125 - val_loss: 10.1582 - val_mae: 2.4824\n",
            "Epoch 10/10\n",
            "819/819 [==============================] - 14s 17ms/step - loss: 7.8106 - mae: 2.1824 - val_loss: 10.2886 - val_mae: 2.4970\n",
            "405/405 [==============================] - 5s 12ms/step - loss: 11.1497 - mae: 2.6322\n",
            "Test MAE: 2.63\n"
          ]
        }
      ]
    },
    {
      "cell_type": "markdown",
      "metadata": {
        "id": "7AWQW3OaEILN"
      },
      "source": [
        "## Understanding recurrent neural networks"
      ]
    },
    {
      "cell_type": "markdown",
      "metadata": {
        "id": "GSu_RnHcEILN"
      },
      "source": [
        "**NumPy implementation of a simple RNN**"
      ]
    },
    {
      "cell_type": "code",
      "execution_count": 13,
      "metadata": {
        "id": "-W-Hqp8PEILN"
      },
      "outputs": [],
      "source": [
        "import numpy as np\n",
        "timesteps = 100\n",
        "input_features = 32\n",
        "output_features = 64\n",
        "inputs = np.random.random((timesteps, input_features))\n",
        "state_t = np.zeros((output_features,))\n",
        "W = np.random.random((output_features, input_features))\n",
        "U = np.random.random((output_features, output_features))\n",
        "b = np.random.random((output_features,))\n",
        "successive_outputs = []\n",
        "for input_t in inputs:\n",
        "    output_t = np.tanh(np.dot(W, input_t) + np.dot(U, state_t) + b)\n",
        "    successive_outputs.append(output_t)\n",
        "    state_t = output_t\n",
        "final_output_sequence = np.stack(successive_outputs, axis=0)"
      ]
    },
    {
      "cell_type": "markdown",
      "metadata": {
        "id": "WstJ6KKGEILQ"
      },
      "source": [
        "### A recurrent layer in Keras"
      ]
    },
    {
      "cell_type": "markdown",
      "metadata": {
        "id": "fgu5vyLgEILQ"
      },
      "source": [
        "**An RNN layer that can process sequences of any length**"
      ]
    },
    {
      "cell_type": "code",
      "execution_count": 14,
      "metadata": {
        "id": "qPSy9DYwEILR"
      },
      "outputs": [],
      "source": [
        "num_features = 14\n",
        "inputs = keras.Input(shape=(None, num_features))\n",
        "outputs = layers.SimpleRNN(16)(inputs)"
      ]
    },
    {
      "cell_type": "markdown",
      "metadata": {
        "id": "iSodCJ_REILR"
      },
      "source": [
        "**An RNN layer that returns only its last output step**"
      ]
    },
    {
      "cell_type": "code",
      "execution_count": 15,
      "metadata": {
        "colab": {
          "base_uri": "https://localhost:8080/"
        },
        "id": "Plqdr79rEILR",
        "outputId": "1fb998c6-8fff-4e3f-8d11-3ac779693a81"
      },
      "outputs": [
        {
          "output_type": "stream",
          "name": "stdout",
          "text": [
            "(None, 16)\n"
          ]
        }
      ],
      "source": [
        "num_features = 14\n",
        "steps = 120\n",
        "inputs = keras.Input(shape=(steps, num_features))\n",
        "outputs = layers.SimpleRNN(16, return_sequences=False)(inputs)\n",
        "print(outputs.shape)"
      ]
    },
    {
      "cell_type": "markdown",
      "metadata": {
        "id": "wKp6bUzfEILR"
      },
      "source": [
        "**An RNN layer that returns its full output sequence**"
      ]
    },
    {
      "cell_type": "code",
      "execution_count": 16,
      "metadata": {
        "colab": {
          "base_uri": "https://localhost:8080/"
        },
        "id": "nkZp42WiEILR",
        "outputId": "fe29279e-ca65-4d7a-b725-98e0da382cc1"
      },
      "outputs": [
        {
          "output_type": "stream",
          "name": "stdout",
          "text": [
            "(None, 120, 16)\n"
          ]
        }
      ],
      "source": [
        "num_features = 14\n",
        "steps = 120\n",
        "inputs = keras.Input(shape=(steps, num_features))\n",
        "outputs = layers.SimpleRNN(16, return_sequences=True)(inputs)\n",
        "print(outputs.shape)"
      ]
    },
    {
      "cell_type": "markdown",
      "metadata": {
        "id": "orep0Dy1EILR"
      },
      "source": [
        "**Stacking RNN layers**"
      ]
    },
    {
      "cell_type": "code",
      "execution_count": 17,
      "metadata": {
        "id": "-UvIBmVTEILR"
      },
      "outputs": [],
      "source": [
        "inputs = keras.Input(shape=(steps, num_features))\n",
        "x = layers.SimpleRNN(16, return_sequences=True)(inputs)\n",
        "x = layers.SimpleRNN(16, return_sequences=True)(x)\n",
        "outputs = layers.SimpleRNN(16)(x)"
      ]
    },
    {
      "cell_type": "markdown",
      "metadata": {
        "id": "AcXIuNUtEILR"
      },
      "source": [
        "## Advanced use of recurrent neural networks"
      ]
    },
    {
      "cell_type": "markdown",
      "metadata": {
        "id": "PdnAuAZ5EILR"
      },
      "source": [
        "### Using recurrent dropout to fight overfitting"
      ]
    },
    {
      "cell_type": "markdown",
      "metadata": {
        "id": "d8FLxUdbEILR"
      },
      "source": [
        "**Training and evaluating a dropout-regularized LSTM**"
      ]
    },
    {
      "cell_type": "code",
      "execution_count": null,
      "metadata": {
        "id": "elN2w2PUEILR"
      },
      "outputs": [],
      "source": [
        "inputs = keras.Input(shape=(sequence_length, raw_data.shape[-1]))\n",
        "x = layers.LSTM(32, recurrent_dropout=0.25)(inputs)\n",
        "x = layers.Dropout(0.5)(x)\n",
        "outputs = layers.Dense(1)(x)\n",
        "model = keras.Model(inputs, outputs)\n",
        "\n",
        "callbacks = [\n",
        "    keras.callbacks.ModelCheckpoint(\"jena_lstm_dropout.keras\",\n",
        "                                    save_best_only=True)\n",
        "]\n",
        "model.compile(optimizer=\"rmsprop\", loss=\"mse\", metrics=[\"mae\"])\n",
        "history = model.fit(train_dataset,\n",
        "                    epochs=50,\n",
        "                    validation_data=val_dataset,\n",
        "                    callbacks=callbacks)"
      ]
    },
    {
      "cell_type": "code",
      "source": [
        "inputs = keras.Input(shape=(sequence_length, num_features))\n",
        "x = layers.LSTM(32, recurrent_dropout=0.25)(inputs)  # You can adjust dropout rates here if needed.\n",
        "x = layers.Dropout(0.5)(x)  # Adjust dropout rates as needed.\n",
        "outputs = layers.Dense(1)(x)\n",
        "model = keras.Model(inputs, outputs)\n",
        "\n",
        "model.compile(optimizer=\"rmsprop\", loss=\"mse\", metrics=[\"mae\"])\n",
        "\n",
        "history = model.fit(\n",
        "    train_dataset,\n",
        "    epochs=50,\n",
        "    validation_data=val_dataset\n",
        ")\n",
        "\n",
        "model.save(\"jena_lstm_dropout.keras\")"
      ],
      "metadata": {
        "colab": {
          "base_uri": "https://localhost:8080/"
        },
        "id": "fOZXFkPiJ2j2",
        "outputId": "fb0519ea-117e-4af8-c2a4-7a81af1dc29f"
      },
      "execution_count": null,
      "outputs": [
        {
          "output_type": "stream",
          "name": "stderr",
          "text": [
            "WARNING:tensorflow:Layer lstm_1 will not use cuDNN kernels since it doesn't meet the criteria. It will use a generic GPU kernel as fallback when running on GPU.\n"
          ]
        },
        {
          "output_type": "stream",
          "name": "stdout",
          "text": [
            "Epoch 1/50\n",
            "819/819 [==============================] - 255s 308ms/step - loss: 27.8987 - mae: 3.8970 - val_loss: 10.0518 - val_mae: 2.4674\n",
            "Epoch 2/50\n",
            "819/819 [==============================] - 250s 305ms/step - loss: 14.8662 - mae: 2.9938 - val_loss: 10.2544 - val_mae: 2.4859\n",
            "Epoch 3/50\n",
            "819/819 [==============================] - 250s 306ms/step - loss: 14.0331 - mae: 2.9055 - val_loss: 9.5216 - val_mae: 2.3857\n",
            "Epoch 4/50\n",
            "819/819 [==============================] - 251s 306ms/step - loss: 13.2953 - mae: 2.8283 - val_loss: 9.2849 - val_mae: 2.3573\n",
            "Epoch 5/50\n",
            "819/819 [==============================] - 251s 306ms/step - loss: 12.8571 - mae: 2.7791 - val_loss: 9.6205 - val_mae: 2.3974\n",
            "Epoch 6/50\n",
            "819/819 [==============================] - 250s 305ms/step - loss: 12.5158 - mae: 2.7457 - val_loss: 9.8754 - val_mae: 2.4417\n",
            "Epoch 7/50\n",
            "819/819 [==============================] - 250s 305ms/step - loss: 12.1805 - mae: 2.7091 - val_loss: 9.2894 - val_mae: 2.3519\n",
            "Epoch 8/50\n",
            "819/819 [==============================] - 251s 306ms/step - loss: 11.8292 - mae: 2.6684 - val_loss: 9.5147 - val_mae: 2.3791\n",
            "Epoch 9/50\n",
            "819/819 [==============================] - 251s 306ms/step - loss: 11.6650 - mae: 2.6494 - val_loss: 9.4090 - val_mae: 2.3723\n",
            "Epoch 10/50\n",
            "819/819 [==============================] - 251s 306ms/step - loss: 11.3834 - mae: 2.6216 - val_loss: 9.7228 - val_mae: 2.4196\n",
            "Epoch 11/50\n",
            "819/819 [==============================] - 250s 305ms/step - loss: 11.2616 - mae: 2.6027 - val_loss: 9.7252 - val_mae: 2.4017\n",
            "Epoch 12/50\n",
            "819/819 [==============================] - 253s 309ms/step - loss: 11.0336 - mae: 2.5783 - val_loss: 10.1017 - val_mae: 2.4575\n",
            "Epoch 13/50\n",
            "819/819 [==============================] - 251s 307ms/step - loss: 11.0156 - mae: 2.5711 - val_loss: 9.7888 - val_mae: 2.4154\n",
            "Epoch 14/50\n",
            "819/819 [==============================] - 248s 303ms/step - loss: 10.8142 - mae: 2.5463 - val_loss: 9.9165 - val_mae: 2.4354\n",
            "Epoch 15/50\n",
            "819/819 [==============================] - 249s 304ms/step - loss: 10.6490 - mae: 2.5332 - val_loss: 9.8974 - val_mae: 2.4247\n",
            "Epoch 16/50\n",
            "819/819 [==============================] - 250s 305ms/step - loss: 10.5604 - mae: 2.5212 - val_loss: 9.7976 - val_mae: 2.4276\n",
            "Epoch 17/50\n",
            "819/819 [==============================] - 251s 306ms/step - loss: 10.5368 - mae: 2.5147 - val_loss: 10.1115 - val_mae: 2.4593\n",
            "Epoch 18/50\n",
            "819/819 [==============================] - 255s 311ms/step - loss: 10.3505 - mae: 2.4954 - val_loss: 10.1997 - val_mae: 2.4753\n",
            "Epoch 19/50\n",
            "819/819 [==============================] - 257s 314ms/step - loss: 10.2840 - mae: 2.4852 - val_loss: 10.2002 - val_mae: 2.4694\n",
            "Epoch 20/50\n",
            "819/819 [==============================] - 256s 313ms/step - loss: 10.2382 - mae: 2.4821 - val_loss: 10.2817 - val_mae: 2.4724\n",
            "Epoch 21/50\n",
            "819/819 [==============================] - 257s 314ms/step - loss: 10.1191 - mae: 2.4673 - val_loss: 10.4112 - val_mae: 2.4933\n",
            "Epoch 22/50\n",
            "819/819 [==============================] - 258s 315ms/step - loss: 10.0536 - mae: 2.4600 - val_loss: 10.4596 - val_mae: 2.5103\n",
            "Epoch 23/50\n",
            "819/819 [==============================] - 249s 304ms/step - loss: 9.9590 - mae: 2.4470 - val_loss: 10.2065 - val_mae: 2.4822\n",
            "Epoch 24/50\n",
            "819/819 [==============================] - 252s 308ms/step - loss: 9.8684 - mae: 2.4346 - val_loss: 10.4741 - val_mae: 2.4983\n",
            "Epoch 25/50\n",
            "819/819 [==============================] - 258s 315ms/step - loss: 9.9047 - mae: 2.4421 - val_loss: 10.4062 - val_mae: 2.4939\n",
            "Epoch 26/50\n",
            "819/819 [==============================] - 260s 317ms/step - loss: 9.8372 - mae: 2.4327 - val_loss: 10.2657 - val_mae: 2.4819\n",
            "Epoch 27/50\n",
            "819/819 [==============================] - 260s 317ms/step - loss: 9.7503 - mae: 2.4202 - val_loss: 10.5322 - val_mae: 2.5113\n",
            "Epoch 28/50\n",
            "819/819 [==============================] - 256s 313ms/step - loss: 9.7324 - mae: 2.4191 - val_loss: 10.4179 - val_mae: 2.4954\n",
            "Epoch 29/50\n",
            "819/819 [==============================] - 252s 308ms/step - loss: 9.6411 - mae: 2.4078 - val_loss: 10.4896 - val_mae: 2.5063\n",
            "Epoch 30/50\n",
            "819/819 [==============================] - 252s 308ms/step - loss: 9.6262 - mae: 2.4068 - val_loss: 10.5088 - val_mae: 2.5039\n",
            "Epoch 31/50\n",
            "819/819 [==============================] - 253s 309ms/step - loss: 9.5464 - mae: 2.3966 - val_loss: 10.5845 - val_mae: 2.5215\n",
            "Epoch 32/50\n",
            "819/819 [==============================] - 255s 312ms/step - loss: 9.5307 - mae: 2.3930 - val_loss: 10.3538 - val_mae: 2.4920\n",
            "Epoch 33/50\n",
            "819/819 [==============================] - 260s 318ms/step - loss: 9.5080 - mae: 2.3918 - val_loss: 10.6556 - val_mae: 2.5190\n",
            "Epoch 34/50\n",
            "819/819 [==============================] - 258s 315ms/step - loss: 9.4251 - mae: 2.3780 - val_loss: 10.7134 - val_mae: 2.5279\n",
            "Epoch 35/50\n",
            "819/819 [==============================] - 261s 319ms/step - loss: 9.4180 - mae: 2.3777 - val_loss: 11.0393 - val_mae: 2.5706\n",
            "Epoch 36/50\n",
            "819/819 [==============================] - 256s 313ms/step - loss: 9.3323 - mae: 2.3675 - val_loss: 10.2813 - val_mae: 2.4927\n",
            "Epoch 37/50\n",
            "819/819 [==============================] - 261s 318ms/step - loss: 9.3213 - mae: 2.3638 - val_loss: 10.5920 - val_mae: 2.5324\n",
            "Epoch 38/50\n",
            "819/819 [==============================] - 259s 316ms/step - loss: 9.3811 - mae: 2.3714 - val_loss: 10.7855 - val_mae: 2.5475\n",
            "Epoch 39/50\n",
            "819/819 [==============================] - 262s 319ms/step - loss: 9.2872 - mae: 2.3604 - val_loss: 10.7582 - val_mae: 2.5365\n",
            "Epoch 40/50\n",
            "819/819 [==============================] - 259s 316ms/step - loss: 9.2002 - mae: 2.3526 - val_loss: 10.5817 - val_mae: 2.5198\n",
            "Epoch 41/50\n",
            "819/819 [==============================] - 258s 315ms/step - loss: 9.1914 - mae: 2.3467 - val_loss: 10.7766 - val_mae: 2.5463\n",
            "Epoch 42/50\n",
            "819/819 [==============================] - 259s 317ms/step - loss: 9.1804 - mae: 2.3432 - val_loss: 10.7584 - val_mae: 2.5421\n",
            "Epoch 43/50\n",
            "819/819 [==============================] - 258s 315ms/step - loss: 9.1528 - mae: 2.3402 - val_loss: 11.0708 - val_mae: 2.5840\n",
            "Epoch 44/50\n",
            "819/819 [==============================] - 260s 318ms/step - loss: 9.0812 - mae: 2.3319 - val_loss: 10.9425 - val_mae: 2.5673\n",
            "Epoch 45/50\n",
            "819/819 [==============================] - 260s 317ms/step - loss: 9.0808 - mae: 2.3303 - val_loss: 10.6962 - val_mae: 2.5371\n",
            "Epoch 46/50\n",
            "819/819 [==============================] - 263s 321ms/step - loss: 9.0389 - mae: 2.3256 - val_loss: 11.3330 - val_mae: 2.6218\n",
            "Epoch 47/50\n",
            "819/819 [==============================] - 263s 321ms/step - loss: 9.0559 - mae: 2.3274 - val_loss: 10.6881 - val_mae: 2.5351\n",
            "Epoch 48/50\n",
            "819/819 [==============================] - 270s 330ms/step - loss: 8.9651 - mae: 2.3196 - val_loss: 11.0948 - val_mae: 2.5865\n",
            "Epoch 49/50\n",
            "819/819 [==============================] - 260s 317ms/step - loss: 8.9766 - mae: 2.3167 - val_loss: 10.8019 - val_mae: 2.5532\n",
            "Epoch 50/50\n",
            "819/819 [==============================] - 257s 314ms/step - loss: 8.9514 - mae: 2.3127 - val_loss: 11.1509 - val_mae: 2.5997\n"
          ]
        }
      ]
    },
    {
      "cell_type": "code",
      "execution_count": null,
      "metadata": {
        "colab": {
          "base_uri": "https://localhost:8080/"
        },
        "id": "xw8MP_piEILR",
        "outputId": "1c971e39-eec5-4b2b-dbb3-6c4d9930ba10"
      },
      "outputs": [
        {
          "output_type": "stream",
          "name": "stderr",
          "text": [
            "WARNING:tensorflow:Layer lstm_2 will not use cuDNN kernels since it doesn't meet the criteria. It will use a generic GPU kernel as fallback when running on GPU.\n"
          ]
        }
      ],
      "source": [
        "inputs = keras.Input(shape=(sequence_length, num_features))\n",
        "x = layers.LSTM(32, recurrent_dropout=0.2, unroll=True)(inputs)"
      ]
    },
    {
      "cell_type": "markdown",
      "metadata": {
        "id": "mE8SrXC3EILR"
      },
      "source": [
        "### Stacking recurrent layers"
      ]
    },
    {
      "cell_type": "markdown",
      "metadata": {
        "id": "H88RDHcDEILR"
      },
      "source": [
        "**Training and evaluating a dropout-regularized, stacked GRU model**"
      ]
    },
    {
      "cell_type": "code",
      "execution_count": null,
      "metadata": {
        "id": "QaHWP8-BEILS"
      },
      "outputs": [],
      "source": [
        "inputs = keras.Input(shape=(sequence_length, raw_data.shape[-1]))\n",
        "x = layers.GRU(32, recurrent_dropout=0.5, return_sequences=True)(inputs)\n",
        "x = layers.GRU(32, recurrent_dropout=0.5)(x)\n",
        "x = layers.Dropout(0.5)(x)\n",
        "outputs = layers.Dense(1)(x)\n",
        "model = keras.Model(inputs, outputs)\n",
        "\n",
        "callbacks = [\n",
        "    keras.callbacks.ModelCheckpoint(\"jena_stacked_gru_dropout.keras\",\n",
        "                                    save_best_only=True)\n",
        "]\n",
        "model.compile(optimizer=\"rmsprop\", loss=\"mse\", metrics=[\"mae\"])\n",
        "history = model.fit(train_dataset,\n",
        "                    epochs=50,\n",
        "                    validation_data=val_dataset,\n",
        "                    callbacks=callbacks)\n",
        "model = keras.models.load_model(\"jena_stacked_gru_dropout.keras\")\n",
        "print(f\"Test MAE: {model.evaluate(test_dataset)[1]:.2f}\")"
      ]
    },
    {
      "cell_type": "code",
      "source": [
        "inputs = keras.Input(shape=(sequence_length, raw_data.shape[-1]))\n",
        "x = layers.GRU(32, recurrent_dropout=0.5, return_sequences=True)(inputs)\n",
        "x = layers.GRU(32, recurrent_dropout=0.5)(x)\n",
        "x = layers.Dropout(0.5)(x)\n",
        "outputs = layers.Dense(1)(x)\n",
        "\n",
        "model = keras.Model(inputs, outputs)\n",
        "model.compile(optimizer=\"rmsprop\", loss=\"mse\", metrics=[\"mae\"])\n",
        "\n",
        "history = model.fit(\n",
        "    train_dataset,\n",
        "    epochs=50,\n",
        "    validation_data=val_dataset\n",
        ")\n",
        "\n",
        "model.save(\"jena_stacked_gru_dropout.keras\")\n",
        "\n",
        "\n",
        "model = keras.models.load_model(\"jena_stacked_gru_dropout.keras\")\n",
        "\n",
        "test_mae = model.evaluate(test_dataset)[1]\n",
        "print(f\"Test MAE: {test_mae:.2f}\")"
      ],
      "metadata": {
        "colab": {
          "base_uri": "https://localhost:8080/"
        },
        "id": "rzr2AgFStDpN",
        "outputId": "01486a0e-3d77-4eb2-dbf7-f5922c347a07"
      },
      "execution_count": null,
      "outputs": [
        {
          "output_type": "stream",
          "name": "stderr",
          "text": [
            "WARNING:tensorflow:Layer gru will not use cuDNN kernels since it doesn't meet the criteria. It will use a generic GPU kernel as fallback when running on GPU.\n",
            "WARNING:tensorflow:Layer gru_1 will not use cuDNN kernels since it doesn't meet the criteria. It will use a generic GPU kernel as fallback when running on GPU.\n"
          ]
        },
        {
          "output_type": "stream",
          "name": "stdout",
          "text": [
            "Epoch 1/50\n",
            "819/819 [==============================] - 491s 589ms/step - loss: 24.3694 - mae: 3.6524 - val_loss: 9.4538 - val_mae: 2.3836\n",
            "Epoch 2/50\n",
            "819/819 [==============================] - 477s 583ms/step - loss: 14.0290 - mae: 2.9012 - val_loss: 9.3778 - val_mae: 2.3788\n",
            "Epoch 3/50\n",
            "819/819 [==============================] - 476s 581ms/step - loss: 13.3217 - mae: 2.8293 - val_loss: 9.2452 - val_mae: 2.3603\n",
            "Epoch 4/50\n",
            "819/819 [==============================] - 474s 579ms/step - loss: 12.7727 - mae: 2.7681 - val_loss: 9.2690 - val_mae: 2.3631\n",
            "Epoch 5/50\n",
            "819/819 [==============================] - 476s 581ms/step - loss: 12.3418 - mae: 2.7242 - val_loss: 9.4738 - val_mae: 2.3875\n",
            "Epoch 6/50\n",
            "819/819 [==============================] - 475s 580ms/step - loss: 11.8122 - mae: 2.6668 - val_loss: 9.3680 - val_mae: 2.3591\n",
            "Epoch 7/50\n",
            "819/819 [==============================] - 468s 571ms/step - loss: 11.4859 - mae: 2.6292 - val_loss: 9.2616 - val_mae: 2.3487\n",
            "Epoch 8/50\n",
            "819/819 [==============================] - 470s 574ms/step - loss: 11.1641 - mae: 2.5950 - val_loss: 9.5605 - val_mae: 2.3868\n",
            "Epoch 9/50\n",
            "819/819 [==============================] - 470s 574ms/step - loss: 10.7995 - mae: 2.5519 - val_loss: 9.4082 - val_mae: 2.3677\n",
            "Epoch 10/50\n",
            "819/819 [==============================] - 470s 573ms/step - loss: 10.5271 - mae: 2.5182 - val_loss: 9.9015 - val_mae: 2.4432\n",
            "Epoch 11/50\n",
            "819/819 [==============================] - 471s 575ms/step - loss: 10.2507 - mae: 2.4885 - val_loss: 9.6233 - val_mae: 2.4105\n",
            "Epoch 12/50\n",
            "819/819 [==============================] - 470s 574ms/step - loss: 10.0607 - mae: 2.4635 - val_loss: 10.0553 - val_mae: 2.4459\n",
            "Epoch 13/50\n",
            "819/819 [==============================] - 474s 579ms/step - loss: 9.8051 - mae: 2.4349 - val_loss: 10.0338 - val_mae: 2.4486\n",
            "Epoch 14/50\n",
            "819/819 [==============================] - 473s 577ms/step - loss: 9.5976 - mae: 2.4117 - val_loss: 10.3369 - val_mae: 2.4771\n",
            "Epoch 15/50\n",
            "819/819 [==============================] - 472s 576ms/step - loss: 9.5054 - mae: 2.3962 - val_loss: 10.4913 - val_mae: 2.4899\n",
            "Epoch 16/50\n",
            "819/819 [==============================] - 476s 581ms/step - loss: 9.2268 - mae: 2.3617 - val_loss: 10.7888 - val_mae: 2.5245\n",
            "Epoch 17/50\n",
            "819/819 [==============================] - 470s 574ms/step - loss: 9.0888 - mae: 2.3468 - val_loss: 10.2961 - val_mae: 2.4881\n",
            "Epoch 18/50\n",
            "819/819 [==============================] - 471s 575ms/step - loss: 8.9864 - mae: 2.3310 - val_loss: 10.5786 - val_mae: 2.5117\n",
            "Epoch 19/50\n",
            "819/819 [==============================] - 466s 569ms/step - loss: 8.8506 - mae: 2.3147 - val_loss: 10.8770 - val_mae: 2.5758\n",
            "Epoch 20/50\n",
            "819/819 [==============================] - 464s 567ms/step - loss: 8.6672 - mae: 2.2935 - val_loss: 11.4532 - val_mae: 2.6454\n",
            "Epoch 21/50\n",
            "819/819 [==============================] - 460s 562ms/step - loss: 8.5676 - mae: 2.2791 - val_loss: 11.3134 - val_mae: 2.6298\n",
            "Epoch 22/50\n",
            "819/819 [==============================] - 459s 561ms/step - loss: 8.4802 - mae: 2.2690 - val_loss: 10.6796 - val_mae: 2.5492\n",
            "Epoch 23/50\n",
            "819/819 [==============================] - 458s 559ms/step - loss: 8.3711 - mae: 2.2534 - val_loss: 11.2996 - val_mae: 2.6051\n",
            "Epoch 24/50\n",
            "819/819 [==============================] - 465s 567ms/step - loss: 8.3180 - mae: 2.2462 - val_loss: 11.7475 - val_mae: 2.6462\n",
            "Epoch 25/50\n",
            "819/819 [==============================] - 464s 567ms/step - loss: 8.1886 - mae: 2.2280 - val_loss: 11.5171 - val_mae: 2.6368\n",
            "Epoch 26/50\n",
            "819/819 [==============================] - 468s 571ms/step - loss: 8.1036 - mae: 2.2188 - val_loss: 11.6976 - val_mae: 2.6440\n",
            "Epoch 27/50\n",
            "819/819 [==============================] - 468s 572ms/step - loss: 8.0447 - mae: 2.2083 - val_loss: 11.8169 - val_mae: 2.6881\n",
            "Epoch 28/50\n",
            "819/819 [==============================] - 468s 572ms/step - loss: 7.9957 - mae: 2.2005 - val_loss: 11.9902 - val_mae: 2.6990\n",
            "Epoch 29/50\n",
            "819/819 [==============================] - 467s 570ms/step - loss: 7.9407 - mae: 2.1954 - val_loss: 11.6007 - val_mae: 2.6419\n",
            "Epoch 30/50\n",
            "819/819 [==============================] - 470s 573ms/step - loss: 7.8880 - mae: 2.1859 - val_loss: 12.1816 - val_mae: 2.7115\n",
            "Epoch 31/50\n",
            "819/819 [==============================] - 473s 578ms/step - loss: 7.8273 - mae: 2.1788 - val_loss: 11.8038 - val_mae: 2.6565\n",
            "Epoch 32/50\n",
            "819/819 [==============================] - 477s 582ms/step - loss: 7.8052 - mae: 2.1744 - val_loss: 12.0483 - val_mae: 2.6948\n",
            "Epoch 33/50\n",
            "819/819 [==============================] - 474s 579ms/step - loss: 7.6958 - mae: 2.1605 - val_loss: 12.8019 - val_mae: 2.7607\n",
            "Epoch 34/50\n",
            "819/819 [==============================] - 466s 569ms/step - loss: 7.6512 - mae: 2.1533 - val_loss: 12.7266 - val_mae: 2.7704\n",
            "Epoch 35/50\n",
            "819/819 [==============================] - 462s 564ms/step - loss: 7.6270 - mae: 2.1502 - val_loss: 12.5886 - val_mae: 2.7649\n",
            "Epoch 36/50\n",
            "819/819 [==============================] - 461s 563ms/step - loss: 7.5428 - mae: 2.1387 - val_loss: 12.7119 - val_mae: 2.7568\n",
            "Epoch 37/50\n",
            "819/819 [==============================] - 460s 562ms/step - loss: 7.5133 - mae: 2.1335 - val_loss: 12.0102 - val_mae: 2.6836\n",
            "Epoch 38/50\n",
            "819/819 [==============================] - 458s 559ms/step - loss: 7.4918 - mae: 2.1324 - val_loss: 12.6662 - val_mae: 2.7823\n",
            "Epoch 39/50\n",
            "819/819 [==============================] - 457s 558ms/step - loss: 7.4800 - mae: 2.1283 - val_loss: 12.3982 - val_mae: 2.7313\n",
            "Epoch 40/50\n",
            "819/819 [==============================] - 462s 564ms/step - loss: 7.3962 - mae: 2.1163 - val_loss: 13.2484 - val_mae: 2.8409\n",
            "Epoch 41/50\n",
            "819/819 [==============================] - 462s 564ms/step - loss: 7.3949 - mae: 2.1144 - val_loss: 13.2297 - val_mae: 2.8171\n",
            "Epoch 42/50\n",
            "819/819 [==============================] - 465s 567ms/step - loss: 7.3855 - mae: 2.1093 - val_loss: 12.6478 - val_mae: 2.7664\n",
            "Epoch 43/50\n",
            "819/819 [==============================] - 465s 567ms/step - loss: 7.3549 - mae: 2.1054 - val_loss: 13.2701 - val_mae: 2.8322\n",
            "Epoch 44/50\n",
            "819/819 [==============================] - 466s 568ms/step - loss: 7.2489 - mae: 2.0946 - val_loss: 13.2617 - val_mae: 2.8190\n",
            "Epoch 45/50\n",
            "819/819 [==============================] - 461s 563ms/step - loss: 7.2652 - mae: 2.0948 - val_loss: 12.8066 - val_mae: 2.7795\n",
            "Epoch 46/50\n",
            "819/819 [==============================] - 461s 563ms/step - loss: 7.1648 - mae: 2.0831 - val_loss: 13.0569 - val_mae: 2.8019\n",
            "Epoch 47/50\n",
            "819/819 [==============================] - 458s 559ms/step - loss: 7.2641 - mae: 2.0920 - val_loss: 12.9952 - val_mae: 2.7733\n",
            "Epoch 48/50\n",
            "819/819 [==============================] - 461s 563ms/step - loss: 7.1918 - mae: 2.0816 - val_loss: 12.7102 - val_mae: 2.7547\n",
            "Epoch 49/50\n",
            "819/819 [==============================] - 459s 560ms/step - loss: 7.1116 - mae: 2.0707 - val_loss: 13.4521 - val_mae: 2.8427\n",
            "Epoch 50/50\n",
            "819/819 [==============================] - 457s 558ms/step - loss: 7.1184 - mae: 2.0722 - val_loss: 13.0283 - val_mae: 2.7907\n"
          ]
        },
        {
          "output_type": "stream",
          "name": "stderr",
          "text": [
            "WARNING:tensorflow:Layer gru will not use cuDNN kernels since it doesn't meet the criteria. It will use a generic GPU kernel as fallback when running on GPU.\n",
            "WARNING:tensorflow:Layer gru_1 will not use cuDNN kernels since it doesn't meet the criteria. It will use a generic GPU kernel as fallback when running on GPU.\n"
          ]
        },
        {
          "output_type": "stream",
          "name": "stdout",
          "text": [
            "405/405 [==============================] - 26s 63ms/step - loss: 13.3474 - mae: 2.9082\n",
            "Test MAE: 2.91\n"
          ]
        }
      ]
    },
    {
      "cell_type": "code",
      "source": [
        "inputs = keras.Input(shape=(sequence_length, raw_data.shape[-1]))\n",
        "x = layers.GRU(64, recurrent_dropout=0.5, return_sequences=True)(inputs)\n",
        "x = layers.GRU(64, recurrent_dropout=0.5)(x)\n",
        "x = layers.Dropout(0.5)(x)\n",
        "outputs = layers.Dense(1)(x)\n",
        "\n",
        "model = keras.Model(inputs, outputs)\n",
        "model.compile(optimizer=\"rmsprop\", loss=\"mse\", metrics=[\"mae\"])\n",
        "\n",
        "history = model.fit(\n",
        "    train_dataset,\n",
        "    epochs=20,\n",
        "    validation_data=val_dataset\n",
        ")\n",
        "\n",
        "model.save(\"jena_stacked_gru_dropout.keras\")\n",
        "\n",
        "model = keras.models.load_model(\"jena_stacked_gru_dropout.keras\")\n",
        "\n",
        "\n",
        "test_mae = model.evaluate(test_dataset)[1]\n",
        "print(f\"Test MAE: {test_mae:.2f}\")"
      ],
      "metadata": {
        "id": "uGGfnhC_TJTL",
        "colab": {
          "base_uri": "https://localhost:8080/"
        },
        "outputId": "8af2e936-14ca-466b-a299-626f8551ec3e"
      },
      "execution_count": null,
      "outputs": [
        {
          "output_type": "stream",
          "name": "stderr",
          "text": [
            "WARNING:tensorflow:Layer gru will not use cuDNN kernels since it doesn't meet the criteria. It will use a generic GPU kernel as fallback when running on GPU.\n",
            "WARNING:tensorflow:Layer gru_1 will not use cuDNN kernels since it doesn't meet the criteria. It will use a generic GPU kernel as fallback when running on GPU.\n"
          ]
        },
        {
          "output_type": "stream",
          "name": "stdout",
          "text": [
            "Epoch 1/20\n",
            "819/819 [==============================] - 480s 573ms/step - loss: 16.6665 - mae: 3.0875 - val_loss: 8.8653 - val_mae: 2.3056\n",
            "Epoch 2/20\n",
            "819/819 [==============================] - 464s 567ms/step - loss: 11.6469 - mae: 2.6623 - val_loss: 8.9357 - val_mae: 2.3198\n",
            "Epoch 3/20\n",
            "819/819 [==============================] - 462s 564ms/step - loss: 10.8201 - mae: 2.5644 - val_loss: 9.2472 - val_mae: 2.3599\n",
            "Epoch 4/20\n",
            "819/819 [==============================] - 461s 563ms/step - loss: 10.0408 - mae: 2.4764 - val_loss: 9.6178 - val_mae: 2.4317\n",
            "Epoch 5/20\n",
            "819/819 [==============================] - 457s 558ms/step - loss: 9.2668 - mae: 2.3757 - val_loss: 10.1981 - val_mae: 2.5039\n",
            "Epoch 6/20\n",
            "819/819 [==============================] - 457s 557ms/step - loss: 8.5872 - mae: 2.2858 - val_loss: 10.1384 - val_mae: 2.5012\n",
            "Epoch 7/20\n",
            "819/819 [==============================] - 456s 557ms/step - loss: 8.0307 - mae: 2.2089 - val_loss: 11.0240 - val_mae: 2.5945\n",
            "Epoch 8/20\n",
            "819/819 [==============================] - 455s 555ms/step - loss: 7.5437 - mae: 2.1401 - val_loss: 11.2212 - val_mae: 2.6172\n",
            "Epoch 9/20\n",
            "819/819 [==============================] - 454s 555ms/step - loss: 7.1409 - mae: 2.0792 - val_loss: 11.5884 - val_mae: 2.6523\n",
            "Epoch 10/20\n",
            "819/819 [==============================] - 454s 555ms/step - loss: 6.8076 - mae: 2.0309 - val_loss: 11.6629 - val_mae: 2.6572\n",
            "Epoch 11/20\n",
            "819/819 [==============================] - 453s 553ms/step - loss: 6.4891 - mae: 1.9800 - val_loss: 11.5940 - val_mae: 2.6361\n",
            "Epoch 12/20\n",
            "819/819 [==============================] - 452s 552ms/step - loss: 6.2525 - mae: 1.9419 - val_loss: 11.9616 - val_mae: 2.6723\n",
            "Epoch 13/20\n",
            "819/819 [==============================] - 452s 551ms/step - loss: 6.0271 - mae: 1.9059 - val_loss: 12.8012 - val_mae: 2.7607\n",
            "Epoch 14/20\n",
            "819/819 [==============================] - 452s 551ms/step - loss: 5.8074 - mae: 1.8708 - val_loss: 12.3329 - val_mae: 2.7005\n",
            "Epoch 15/20\n",
            "819/819 [==============================] - 451s 551ms/step - loss: 5.6122 - mae: 1.8375 - val_loss: 12.5173 - val_mae: 2.7213\n",
            "Epoch 16/20\n",
            "819/819 [==============================] - 450s 550ms/step - loss: 5.4634 - mae: 1.8126 - val_loss: 12.5882 - val_mae: 2.7285\n",
            "Epoch 17/20\n",
            "819/819 [==============================] - 451s 550ms/step - loss: 5.3329 - mae: 1.7908 - val_loss: 12.5712 - val_mae: 2.7231\n",
            "Epoch 18/20\n",
            "819/819 [==============================] - 453s 553ms/step - loss: 5.1828 - mae: 1.7654 - val_loss: 13.3613 - val_mae: 2.8201\n",
            "Epoch 19/20\n",
            "819/819 [==============================] - 450s 549ms/step - loss: 5.0579 - mae: 1.7444 - val_loss: 12.5917 - val_mae: 2.7369\n",
            "Epoch 20/20\n",
            "819/819 [==============================] - 448s 547ms/step - loss: 4.9620 - mae: 1.7273 - val_loss: 12.5111 - val_mae: 2.7252\n"
          ]
        },
        {
          "output_type": "stream",
          "name": "stderr",
          "text": [
            "WARNING:tensorflow:Layer gru will not use cuDNN kernels since it doesn't meet the criteria. It will use a generic GPU kernel as fallback when running on GPU.\n",
            "WARNING:tensorflow:Layer gru_1 will not use cuDNN kernels since it doesn't meet the criteria. It will use a generic GPU kernel as fallback when running on GPU.\n"
          ]
        },
        {
          "output_type": "stream",
          "name": "stdout",
          "text": [
            "405/405 [==============================] - 26s 62ms/step - loss: 12.5229 - mae: 2.8101\n",
            "Test MAE: 2.81\n"
          ]
        }
      ]
    },
    {
      "cell_type": "code",
      "source": [
        "inputs = keras.Input(shape=(sequence_length, raw_data.shape[-1]))\n",
        "x = layers.LSTM(32, recurrent_dropout=0.5, return_sequences=True)(inputs)\n",
        "x = layers.LSTM(32, recurrent_dropout=0.5)(x)\n",
        "x = layers.Dropout(0.5)(x)\n",
        "outputs = layers.Dense(1)(x)\n",
        "\n",
        "model = keras.Model(inputs, outputs)\n",
        "model.compile(optimizer=\"rmsprop\", loss=\"mse\", metrics=[\"mae\"])\n",
        "\n",
        "history = model.fit(\n",
        "    train_dataset,\n",
        "    epochs=20,\n",
        "    validation_data=val_dataset\n",
        ")\n",
        "\n",
        "model.save(\"jena_stacked_gru_dropout.keras\")\n",
        "\n",
        "model = keras.models.load_model(\"jena_stacked_gru_dropout.keras\")\n",
        "\n",
        "\n",
        "test_mae = model.evaluate(test_dataset)[1]\n",
        "print(f\"Test MAE: {test_mae:.2f}\")"
      ],
      "metadata": {
        "id": "NyM_79-GTeqP",
        "colab": {
          "base_uri": "https://localhost:8080/"
        },
        "outputId": "5df00c49-b79a-4256-da47-7b765d9b2bc2"
      },
      "execution_count": null,
      "outputs": [
        {
          "output_type": "stream",
          "name": "stderr",
          "text": [
            "WARNING:tensorflow:Layer lstm_3 will not use cuDNN kernels since it doesn't meet the criteria. It will use a generic GPU kernel as fallback when running on GPU.\n",
            "WARNING:tensorflow:Layer lstm_4 will not use cuDNN kernels since it doesn't meet the criteria. It will use a generic GPU kernel as fallback when running on GPU.\n"
          ]
        },
        {
          "output_type": "stream",
          "name": "stdout",
          "text": [
            "Epoch 1/20\n",
            "819/819 [==============================] - 499s 604ms/step - loss: 25.5545 - mae: 3.7350 - val_loss: 9.3223 - val_mae: 2.3634\n",
            "Epoch 2/20\n",
            "819/819 [==============================] - 494s 603ms/step - loss: 13.7659 - mae: 2.8768 - val_loss: 9.3108 - val_mae: 2.3601\n",
            "Epoch 3/20\n",
            "819/819 [==============================] - 498s 608ms/step - loss: 12.4527 - mae: 2.7297 - val_loss: 10.2585 - val_mae: 2.4746\n",
            "Epoch 4/20\n",
            "819/819 [==============================] - 502s 612ms/step - loss: 11.5299 - mae: 2.6248 - val_loss: 10.1977 - val_mae: 2.4878\n",
            "Epoch 5/20\n",
            "819/819 [==============================] - 507s 618ms/step - loss: 10.8124 - mae: 2.5356 - val_loss: 10.4189 - val_mae: 2.5203\n",
            "Epoch 6/20\n",
            "819/819 [==============================] - 502s 613ms/step - loss: 10.1952 - mae: 2.4640 - val_loss: 10.6811 - val_mae: 2.5627\n",
            "Epoch 7/20\n",
            "819/819 [==============================] - 510s 622ms/step - loss: 9.7918 - mae: 2.4138 - val_loss: 11.2789 - val_mae: 2.6372\n",
            "Epoch 8/20\n",
            "819/819 [==============================] - 514s 628ms/step - loss: 9.3105 - mae: 2.3521 - val_loss: 10.9958 - val_mae: 2.6003\n",
            "Epoch 9/20\n",
            "819/819 [==============================] - 515s 628ms/step - loss: 8.9632 - mae: 2.3063 - val_loss: 11.0558 - val_mae: 2.6225\n",
            "Epoch 10/20\n",
            "819/819 [==============================] - 516s 629ms/step - loss: 8.7088 - mae: 2.2748 - val_loss: 12.0427 - val_mae: 2.7286\n",
            "Epoch 11/20\n",
            "819/819 [==============================] - 515s 628ms/step - loss: 8.4059 - mae: 2.2339 - val_loss: 12.1986 - val_mae: 2.7465\n",
            "Epoch 12/20\n",
            "819/819 [==============================] - 513s 626ms/step - loss: 8.1740 - mae: 2.2042 - val_loss: 11.6439 - val_mae: 2.6700\n",
            "Epoch 13/20\n",
            "819/819 [==============================] - 506s 618ms/step - loss: 7.9927 - mae: 2.1783 - val_loss: 11.6559 - val_mae: 2.6657\n",
            "Epoch 14/20\n",
            "819/819 [==============================] - 501s 612ms/step - loss: 7.8129 - mae: 2.1542 - val_loss: 11.9096 - val_mae: 2.7164\n",
            "Epoch 15/20\n",
            "819/819 [==============================] - 501s 612ms/step - loss: 7.6403 - mae: 2.1298 - val_loss: 12.1787 - val_mae: 2.7402\n",
            "Epoch 16/20\n",
            "819/819 [==============================] - 501s 611ms/step - loss: 7.5245 - mae: 2.1158 - val_loss: 11.4849 - val_mae: 2.6506\n",
            "Epoch 17/20\n",
            "819/819 [==============================] - 507s 619ms/step - loss: 7.4327 - mae: 2.1030 - val_loss: 12.0366 - val_mae: 2.7150\n",
            "Epoch 18/20\n",
            "819/819 [==============================] - 507s 619ms/step - loss: 7.3007 - mae: 2.0827 - val_loss: 11.7733 - val_mae: 2.6891\n",
            "Epoch 19/20\n",
            "819/819 [==============================] - 508s 620ms/step - loss: 7.2397 - mae: 2.0748 - val_loss: 12.1306 - val_mae: 2.7345\n",
            "Epoch 20/20\n",
            "819/819 [==============================] - 508s 620ms/step - loss: 7.0931 - mae: 2.0545 - val_loss: 12.0396 - val_mae: 2.7237\n"
          ]
        },
        {
          "output_type": "stream",
          "name": "stderr",
          "text": [
            "WARNING:tensorflow:Layer lstm_3 will not use cuDNN kernels since it doesn't meet the criteria. It will use a generic GPU kernel as fallback when running on GPU.\n",
            "WARNING:tensorflow:Layer lstm_4 will not use cuDNN kernels since it doesn't meet the criteria. It will use a generic GPU kernel as fallback when running on GPU.\n"
          ]
        },
        {
          "output_type": "stream",
          "name": "stdout",
          "text": [
            "405/405 [==============================] - 28s 67ms/step - loss: 13.4181 - mae: 2.8834\n",
            "Test MAE: 2.88\n"
          ]
        }
      ]
    },
    {
      "cell_type": "code",
      "source": [
        "inputs = keras.Input(shape=(sequence_length, raw_data.shape[-1]))\n",
        "x = layers.Conv1D(8, 24, activation=\"relu\")(inputs)\n",
        "x = layers.MaxPooling1D(2)(x)\n",
        "x = layers.Conv1D(8, 12, activation=\"relu\")(x)\n",
        "x = layers.MaxPooling1D(2)(x)\n",
        "x = layers.Conv1D(8, 6, activation=\"relu\")(x)\n",
        "x = layers.GlobalAveragePooling1D()(x)\n",
        "x = layers.LSTM(64, recurrent_dropout=0.5, return_sequences=True)(inputs)\n",
        "x = layers.LSTM(64, recurrent_dropout=0.5)(x)\n",
        "x = layers.Dropout(0.5)(x)\n",
        "outputs = layers.Dense(1)(x)\n",
        "\n",
        "model = keras.Model(inputs, outputs)\n",
        "model.compile(optimizer=\"rmsprop\", loss=\"mse\", metrics=[\"mae\"])\n",
        "\n",
        "history = model.fit(\n",
        "    train_dataset,\n",
        "    epochs=20,\n",
        "    validation_data=val_dataset\n",
        ")\n",
        "\n",
        "model.save(\"jena_stacked_gru_dropout.keras\")\n",
        "\n",
        "model = keras.models.load_model(\"jena_stacked_gru_dropout.keras\")\n",
        "\n",
        "\n",
        "test_mae = model.evaluate(test_dataset)[1]\n",
        "print(f\"Test MAE: {test_mae:.2f}\")"
      ],
      "metadata": {
        "id": "OqGJtjHNT6EK",
        "colab": {
          "base_uri": "https://localhost:8080/"
        },
        "outputId": "e23046a7-59d4-4b36-bb2e-c3b842d52dba"
      },
      "execution_count": 18,
      "outputs": [
        {
          "output_type": "stream",
          "name": "stderr",
          "text": [
            "WARNING:tensorflow:Layer lstm will not use cuDNN kernels since it doesn't meet the criteria. It will use a generic GPU kernel as fallback when running on GPU.\n",
            "WARNING:tensorflow:Layer lstm_1 will not use cuDNN kernels since it doesn't meet the criteria. It will use a generic GPU kernel as fallback when running on GPU.\n"
          ]
        },
        {
          "output_type": "stream",
          "name": "stdout",
          "text": [
            "Epoch 1/20\n",
            "819/819 [==============================] - 490s 586ms/step - loss: 17.0328 - mae: 3.0984 - val_loss: 10.2654 - val_mae: 2.4845\n",
            "Epoch 2/20\n",
            "819/819 [==============================] - 473s 578ms/step - loss: 10.5438 - mae: 2.5260 - val_loss: 10.5142 - val_mae: 2.5157\n",
            "Epoch 3/20\n",
            "819/819 [==============================] - 471s 574ms/step - loss: 9.0005 - mae: 2.3270 - val_loss: 11.1819 - val_mae: 2.6170\n",
            "Epoch 4/20\n",
            "819/819 [==============================] - 469s 573ms/step - loss: 7.8124 - mae: 2.1586 - val_loss: 11.7379 - val_mae: 2.6875\n",
            "Epoch 5/20\n",
            "819/819 [==============================] - 469s 572ms/step - loss: 6.9558 - mae: 2.0282 - val_loss: 12.2062 - val_mae: 2.7272\n",
            "Epoch 6/20\n",
            "819/819 [==============================] - 466s 569ms/step - loss: 6.3077 - mae: 1.9274 - val_loss: 12.5368 - val_mae: 2.7660\n",
            "Epoch 7/20\n",
            "819/819 [==============================] - 466s 569ms/step - loss: 5.8444 - mae: 1.8534 - val_loss: 12.7423 - val_mae: 2.7967\n",
            "Epoch 8/20\n",
            "819/819 [==============================] - 465s 568ms/step - loss: 5.5013 - mae: 1.7960 - val_loss: 12.7135 - val_mae: 2.8018\n",
            "Epoch 9/20\n",
            "819/819 [==============================] - 465s 568ms/step - loss: 5.1662 - mae: 1.7378 - val_loss: 13.4890 - val_mae: 2.8650\n",
            "Epoch 10/20\n",
            "819/819 [==============================] - 465s 568ms/step - loss: 4.9431 - mae: 1.6968 - val_loss: 13.2214 - val_mae: 2.8502\n",
            "Epoch 11/20\n",
            "819/819 [==============================] - 465s 568ms/step - loss: 4.7020 - mae: 1.6559 - val_loss: 13.3038 - val_mae: 2.8347\n",
            "Epoch 12/20\n",
            "819/819 [==============================] - 464s 566ms/step - loss: 4.5341 - mae: 1.6275 - val_loss: 13.3110 - val_mae: 2.8387\n",
            "Epoch 13/20\n",
            "819/819 [==============================] - 464s 567ms/step - loss: 4.4070 - mae: 1.6037 - val_loss: 12.7314 - val_mae: 2.7981\n",
            "Epoch 14/20\n",
            "819/819 [==============================] - 465s 567ms/step - loss: 4.2427 - mae: 1.5749 - val_loss: 13.5346 - val_mae: 2.8755\n",
            "Epoch 15/20\n",
            "819/819 [==============================] - 465s 567ms/step - loss: 4.1556 - mae: 1.5571 - val_loss: 13.6152 - val_mae: 2.8823\n",
            "Epoch 16/20\n",
            "819/819 [==============================] - 464s 566ms/step - loss: 4.0514 - mae: 1.5348 - val_loss: 13.4193 - val_mae: 2.8713\n",
            "Epoch 17/20\n",
            "819/819 [==============================] - 464s 567ms/step - loss: 3.9709 - mae: 1.5202 - val_loss: 13.4798 - val_mae: 2.8617\n",
            "Epoch 18/20\n",
            "819/819 [==============================] - 464s 567ms/step - loss: 3.8816 - mae: 1.5029 - val_loss: 13.6762 - val_mae: 2.8822\n",
            "Epoch 19/20\n",
            "819/819 [==============================] - 464s 567ms/step - loss: 3.8185 - mae: 1.4910 - val_loss: 13.5922 - val_mae: 2.8877\n",
            "Epoch 20/20\n",
            "819/819 [==============================] - 464s 567ms/step - loss: 3.7593 - mae: 1.4784 - val_loss: 13.7496 - val_mae: 2.9005\n"
          ]
        },
        {
          "output_type": "stream",
          "name": "stderr",
          "text": [
            "WARNING:tensorflow:Layer lstm will not use cuDNN kernels since it doesn't meet the criteria. It will use a generic GPU kernel as fallback when running on GPU.\n",
            "WARNING:tensorflow:Layer lstm_1 will not use cuDNN kernels since it doesn't meet the criteria. It will use a generic GPU kernel as fallback when running on GPU.\n"
          ]
        },
        {
          "output_type": "stream",
          "name": "stdout",
          "text": [
            "405/405 [==============================] - 25s 61ms/step - loss: 15.0554 - mae: 3.0684\n",
            "Test MAE: 3.07\n"
          ]
        }
      ]
    },
    {
      "cell_type": "markdown",
      "metadata": {
        "id": "Dn6qsUPXEILS"
      },
      "source": [
        "### Using bidirectional RNNs"
      ]
    },
    {
      "cell_type": "markdown",
      "metadata": {
        "id": "8Cbbc3EfEILS"
      },
      "source": [
        "**Training and evaluating a bidirectional LSTM**"
      ]
    },
    {
      "cell_type": "code",
      "execution_count": null,
      "metadata": {
        "id": "GCyH8IKjEILS",
        "colab": {
          "base_uri": "https://localhost:8080/"
        },
        "outputId": "c5f7dd4f-ae54-448e-b42e-db6b94c9c41b"
      },
      "outputs": [
        {
          "output_type": "stream",
          "name": "stdout",
          "text": [
            "Epoch 1/10\n",
            "819/819 [==============================] - 19s 18ms/step - loss: 27.4951 - mae: 3.7341 - val_loss: 10.7169 - val_mae: 2.5198\n",
            "Epoch 2/10\n",
            "819/819 [==============================] - 14s 17ms/step - loss: 9.4528 - mae: 2.3995 - val_loss: 9.8700 - val_mae: 2.4276\n",
            "Epoch 3/10\n",
            "819/819 [==============================] - 14s 17ms/step - loss: 8.5663 - mae: 2.2820 - val_loss: 9.9910 - val_mae: 2.4335\n",
            "Epoch 4/10\n",
            "819/819 [==============================] - 14s 17ms/step - loss: 8.0542 - mae: 2.2081 - val_loss: 10.0661 - val_mae: 2.4470\n",
            "Epoch 5/10\n",
            "819/819 [==============================] - 14s 17ms/step - loss: 7.6296 - mae: 2.1501 - val_loss: 10.0099 - val_mae: 2.4312\n",
            "Epoch 6/10\n",
            "819/819 [==============================] - 14s 17ms/step - loss: 7.2511 - mae: 2.0949 - val_loss: 10.0547 - val_mae: 2.4305\n",
            "Epoch 7/10\n",
            "819/819 [==============================] - 14s 17ms/step - loss: 6.9103 - mae: 2.0433 - val_loss: 9.9581 - val_mae: 2.4199\n",
            "Epoch 8/10\n",
            "819/819 [==============================] - 14s 17ms/step - loss: 6.6984 - mae: 2.0116 - val_loss: 10.2465 - val_mae: 2.4596\n",
            "Epoch 9/10\n",
            "819/819 [==============================] - 14s 17ms/step - loss: 6.5140 - mae: 1.9859 - val_loss: 10.5860 - val_mae: 2.4913\n",
            "Epoch 10/10\n",
            "819/819 [==============================] - 14s 17ms/step - loss: 6.3040 - mae: 1.9553 - val_loss: 10.2717 - val_mae: 2.4734\n"
          ]
        }
      ],
      "source": [
        "inputs = keras.Input(shape=(sequence_length, raw_data.shape[-1]))\n",
        "x = layers.Bidirectional(layers.LSTM(16))(inputs)\n",
        "outputs = layers.Dense(1)(x)\n",
        "model = keras.Model(inputs, outputs)\n",
        "\n",
        "model.compile(optimizer=\"rmsprop\", loss=\"mse\", metrics=[\"mae\"])\n",
        "history = model.fit(train_dataset,\n",
        "                    epochs=10,\n",
        "                    validation_data=val_dataset)"
      ]
    },
    {
      "cell_type": "markdown",
      "metadata": {
        "id": "Dhw5H_1HEILS"
      },
      "source": [
        "### Going even further"
      ]
    },
    {
      "cell_type": "markdown",
      "metadata": {
        "id": "d8_VYVDBEILS"
      },
      "source": [
        "## Summary"
      ]
    }
  ],
  "metadata": {
    "colab": {
      "provenance": [],
      "toc_visible": true,
      "machine_shape": "hm",
      "gpuType": "T4"
    },
    "kernelspec": {
      "display_name": "Python 3",
      "name": "python3"
    },
    "language_info": {
      "codemirror_mode": {
        "name": "ipython",
        "version": 3
      },
      "file_extension": ".py",
      "mimetype": "text/x-python",
      "name": "python",
      "nbconvert_exporter": "python",
      "pygments_lexer": "ipython3",
      "version": "3.7.0"
    },
    "accelerator": "GPU"
  },
  "nbformat": 4,
  "nbformat_minor": 0
}